{
 "cells": [
  {
   "cell_type": "code",
   "execution_count": 1,
   "metadata": {},
   "outputs": [],
   "source": [
    "import json"
   ]
  },
  {
   "cell_type": "code",
   "execution_count": 3,
   "metadata": {},
   "outputs": [],
   "source": [
    "comment_json = {\n",
    "                    'id': \"comment.id\",\n",
    "                    'name': \"comment.name\",\n",
    "                    'author': \"comment.author.name\",\n",
    "                    'body': \"comment.body\",\n",
    "                }"
   ]
  },
  {
   "cell_type": "code",
   "execution_count": 17,
   "metadata": {},
   "outputs": [],
   "source": [
    "data = json.dumps(comment_json)"
   ]
  },
  {
   "cell_type": "code",
   "execution_count": 18,
   "metadata": {},
   "outputs": [
    {
     "name": "stdout",
     "output_type": "stream",
     "text": [
      "{\"id\": \"comment.id\", \"name\": \"comment.name\", \"author\": \"comment.author.name\", \"body\": \"comment.body\"}\n"
     ]
    }
   ],
   "source": [
    "print(data)"
   ]
  },
  {
   "cell_type": "code",
   "execution_count": 13,
   "metadata": {},
   "outputs": [],
   "source": [
    "dt = json.loads(data)"
   ]
  },
  {
   "cell_type": "code",
   "execution_count": 19,
   "metadata": {},
   "outputs": [],
   "source": [
    "test_comment  = {'id': 'lhsyiws', 'name': 't1_lhsyiws', 'author': 'goodyear_1678', 'body': 'Hmmm, turns out your lot are a bit too small as well apparently!', 'upvotes': 1, 'downvotes': 0, 'timestamp': 1723495017.0, 'match_keywords': '1', 'sentiment_id': 'Positive'}"
   ]
  },
  {
   "cell_type": "code",
   "execution_count": 20,
   "metadata": {},
   "outputs": [
    {
     "name": "stdout",
     "output_type": "stream",
     "text": [
      "{\"id\": \"lhsyiws\", \"name\": \"t1_lhsyiws\", \"author\": \"goodyear_1678\", \"body\": \"Hmmm, turns out your lot are a bit too small as well apparently!\", \"upvotes\": 1, \"downvotes\": 0, \"timestamp\": 1723495017.0, \"match_keywords\": \"1\", \"sentiment_id\": \"Positive\"}\n"
     ]
    }
   ],
   "source": [
    "print(json.dumps(test_comment))"
   ]
  },
  {
   "cell_type": "code",
   "execution_count": null,
   "metadata": {},
   "outputs": [],
   "source": []
  }
 ],
 "metadata": {
  "kernelspec": {
   "display_name": "twitter_sentiment_analysis",
   "language": "python",
   "name": "python3"
  },
  "language_info": {
   "codemirror_mode": {
    "name": "ipython",
    "version": 3
   },
   "file_extension": ".py",
   "mimetype": "text/x-python",
   "name": "python",
   "nbconvert_exporter": "python",
   "pygments_lexer": "ipython3",
   "version": "3.11.9"
  }
 },
 "nbformat": 4,
 "nbformat_minor": 2
}
