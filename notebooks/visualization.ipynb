{
 "cells": [
  {
   "cell_type": "code",
   "execution_count": 123,
   "metadata": {},
   "outputs": [],
   "source": [
    "\"\"\"\n",
    "Defines a DynamoDB table containing Reddit comment data and methods to interact with that table.\n",
    "\"\"\"\n",
    "from decimal import Decimal\n",
    "from botocore.exceptions import ClientError\n",
    "from boto3.dynamodb.conditions import Key\n",
    "\n",
    "class Comment:\n",
    "    \"\"\"\n",
    "    Encapsulates a DynamoDB table of comment data.\n",
    "    \"\"\"\n",
    "\n",
    "    def __init__(self,\n",
    "                 dyn_resource):\n",
    "        \"\"\"\n",
    "        Args:\n",
    "            dyn_resource: A Boto3 DynamoDB resource.\n",
    "        \"\"\"\n",
    "\n",
    "        self.dyn_resource = dyn_resource\n",
    "        # Table variable is set during call to exists.\n",
    "        self.table = None\n",
    "\n",
    "\n",
    "    def exists(self, table_name: str) -> bool:\n",
    "        \"\"\"\n",
    "        Determines whether or not a table exsits. If the table exists, stores it as instance\n",
    "        variable defining table to be used.\n",
    "\n",
    "        Args:\n",
    "            table_name: The name of the table to check.\n",
    "\n",
    "        Returns:\n",
    "            True when the table exists, False otherwise.\n",
    "        \"\"\"\n",
    "\n",
    "        try:\n",
    "            table = self.dyn_resource.Table(table_name)\n",
    "            table.load()\n",
    "            exists = True\n",
    "        except ClientError as err:\n",
    "            if err.response[\"Error\"][\"Code\"] == \"ResourceNotFoundException\":\n",
    "                exists = False\n",
    "            else:\n",
    "                print(f\"Couldnt check for existence: {err.response['Error']['Code']}, \\\n",
    "                      {err.response['Error']['Message']}\")\n",
    "\n",
    "\n",
    "        self.table = table\n",
    "\n",
    "        return exists\n",
    "\n",
    "\n",
    "\n",
    "    def add_comment(self, data: dict):\n",
    "        \"\"\"\n",
    "        Adds a comment record to the table.\n",
    "        \n",
    "        Args:\n",
    "            data: Json data containing comment information\n",
    "        \"\"\"\n",
    "\n",
    "        try:\n",
    "            self.table.put_item(\n",
    "                Item={\n",
    "                    'match_ID_timestamp': data['match_keywords'] + '_' + str(data['timestamp']),\n",
    "                    'sentiment_id': data['label'],\n",
    "                    'sentiment_score': Decimal(data['score']),\n",
    "                    'id': data['id'],\n",
    "                    'name': data['name'],\n",
    "                    'author': data['author'],\n",
    "                    'body': data['body'],\n",
    "                    'upvotes': data['upvotes'],\n",
    "                    'downvotes': data['downvotes'],\n",
    "                    'timestamp': int(data['timestamp']),\n",
    "                }\n",
    "            )\n",
    "\n",
    "        except ClientError as err:\n",
    "            print(f\"Couldnt add comment to table: {err.response['Error']['Code']}, \\\n",
    "                      {err.response['Error']['Message']}\")\n",
    "            \n",
    "\n",
    "    def query_comments(self, team_name):\n",
    "        \"\"\"\n",
    "        Queries for comments with a specific match id and date key.\n",
    "\n",
    "        Args:\n",
    "        match_id_date: The match id and date to query\n",
    "        \n",
    "        Returns:\n",
    "        The list of comments with the specific match id and date.\n",
    "        \"\"\"\n",
    "\n",
    "        try:\n",
    "            response = self.table.query(KeyConditionExpression=Key(\"match_id_date\")\n",
    "                                        .eq(match_id_date))\n",
    "        except ClientError as err:\n",
    "            print(f\"Couldnt query for comments with {match_id_date}: \\\n",
    "                  {err.response['Error']['Code']}, {err.response['Error']['Message']}\")\n",
    "        else:\n",
    "            return response[\"Items\"]\n"
   ]
  },
  {
   "cell_type": "code",
   "execution_count": 125,
   "metadata": {},
   "outputs": [
    {
     "data": {
      "text/plain": [
       "True"
      ]
     },
     "execution_count": 125,
     "metadata": {},
     "output_type": "execute_result"
    }
   ],
   "source": [
    "import boto3\n",
    "\n",
    "dyn_resource = boto3.resource('dynamodb')\n",
    "comment_table = Comment(dyn_resource=dyn_resource)\n",
    "comment_table.exists('soccer_comment_data')"
   ]
  },
  {
   "cell_type": "code",
   "execution_count": 126,
   "metadata": {},
   "outputs": [
    {
     "ename": "TypeError",
     "evalue": "Comment.query_comments() got an unexpected keyword argument 'team_name'",
     "output_type": "error",
     "traceback": [
      "\u001b[0;31m---------------------------------------------------------------------------\u001b[0m",
      "\u001b[0;31mTypeError\u001b[0m                                 Traceback (most recent call last)",
      "Cell \u001b[0;32mIn[126], line 1\u001b[0m\n\u001b[0;32m----> 1\u001b[0m raw_data \u001b[38;5;241m=\u001b[39m comment_table\u001b[38;5;241m.\u001b[39mquery_comments(team_name\u001b[38;5;241m=\u001b[39m\u001b[38;5;124m'\u001b[39m\u001b[38;5;124mliverpool\u001b[39m\u001b[38;5;124m'\u001b[39m)\n",
      "\u001b[0;31mTypeError\u001b[0m: Comment.query_comments() got an unexpected keyword argument 'team_name'"
     ]
    }
   ],
   "source": [
    "raw_data = comment_table.query_comments(team_name='liverpool')"
   ]
  },
  {
   "cell_type": "code",
   "execution_count": 91,
   "metadata": {},
   "outputs": [],
   "source": [
    "import pandas as pd\n",
    "\n",
    "df = pd.DataFrame(raw_data)"
   ]
  },
  {
   "cell_type": "code",
   "execution_count": 92,
   "metadata": {},
   "outputs": [
    {
     "data": {
      "text/html": [
       "<div>\n",
       "<style scoped>\n",
       "    .dataframe tbody tr th:only-of-type {\n",
       "        vertical-align: middle;\n",
       "    }\n",
       "\n",
       "    .dataframe tbody tr th {\n",
       "        vertical-align: top;\n",
       "    }\n",
       "\n",
       "    .dataframe thead th {\n",
       "        text-align: right;\n",
       "    }\n",
       "</style>\n",
       "<table border=\"1\" class=\"dataframe\">\n",
       "  <thead>\n",
       "    <tr style=\"text-align: right;\">\n",
       "      <th></th>\n",
       "      <th>sentiment_id</th>\n",
       "      <th>upvotes</th>\n",
       "      <th>downvotes</th>\n",
       "      <th>sentiment_score</th>\n",
       "      <th>timestamp</th>\n",
       "      <th>id</th>\n",
       "      <th>comment_id_timestamp</th>\n",
       "      <th>name</th>\n",
       "      <th>match_id_date</th>\n",
       "      <th>author</th>\n",
       "      <th>body</th>\n",
       "      <th>date</th>\n",
       "    </tr>\n",
       "  </thead>\n",
       "  <tbody>\n",
       "    <tr>\n",
       "      <th>0</th>\n",
       "      <td>positive</td>\n",
       "      <td>1</td>\n",
       "      <td>0</td>\n",
       "      <td>0.665999114513397216796875</td>\n",
       "      <td>1723586699</td>\n",
       "      <td>lhz95jq</td>\n",
       "      <td>lhz95jq1723586699</td>\n",
       "      <td>t1_lhz95jq</td>\n",
       "      <td>1_2024-08-13</td>\n",
       "      <td>Relevant_Western3464</td>\n",
       "      <td>Interesting.</td>\n",
       "      <td>2024-08-13 22:04:00</td>\n",
       "    </tr>\n",
       "    <tr>\n",
       "      <th>1</th>\n",
       "      <td>negative</td>\n",
       "      <td>1</td>\n",
       "      <td>0</td>\n",
       "      <td>0.8972609043121337890625</td>\n",
       "      <td>1723586734</td>\n",
       "      <td>lhz996i</td>\n",
       "      <td>lhz996i1723586734</td>\n",
       "      <td>t1_lhz996i</td>\n",
       "      <td>1_2024-08-13</td>\n",
       "      <td>edi12334</td>\n",
       "      <td>2 goals conceded in 3 minutes too but apparent...</td>\n",
       "      <td>2024-08-13 22:05:00</td>\n",
       "    </tr>\n",
       "    <tr>\n",
       "      <th>2</th>\n",
       "      <td>neutral</td>\n",
       "      <td>1</td>\n",
       "      <td>0</td>\n",
       "      <td>0.692617475986480712890625</td>\n",
       "      <td>1723586736</td>\n",
       "      <td>lhz99eb</td>\n",
       "      <td>lhz99eb1723586736</td>\n",
       "      <td>t1_lhz99eb</td>\n",
       "      <td>1_2024-08-13</td>\n",
       "      <td>Nut-King-Call</td>\n",
       "      <td>Right now Martin Braithwaite is playing in Cop...</td>\n",
       "      <td>2024-08-13 22:05:00</td>\n",
       "    </tr>\n",
       "    <tr>\n",
       "      <th>3</th>\n",
       "      <td>neutral</td>\n",
       "      <td>1</td>\n",
       "      <td>0</td>\n",
       "      <td>0.62728989124298095703125</td>\n",
       "      <td>1723586743</td>\n",
       "      <td>lhz9a3t</td>\n",
       "      <td>lhz9a3t1723586743</td>\n",
       "      <td>t1_lhz9a3t</td>\n",
       "      <td>1_2024-08-13</td>\n",
       "      <td>Careful-Snow</td>\n",
       "      <td>Running a bit late there Jimothy</td>\n",
       "      <td>2024-08-13 22:05:00</td>\n",
       "    </tr>\n",
       "    <tr>\n",
       "      <th>4</th>\n",
       "      <td>negative</td>\n",
       "      <td>1</td>\n",
       "      <td>0</td>\n",
       "      <td>0.81241357326507568359375</td>\n",
       "      <td>1723586743</td>\n",
       "      <td>lhz9a56</td>\n",
       "      <td>lhz9a561723586743</td>\n",
       "      <td>t1_lhz9a56</td>\n",
       "      <td>1_2024-08-13</td>\n",
       "      <td>foolofatook46</td>\n",
       "      <td>Jesus how did he survive on that??</td>\n",
       "      <td>2024-08-13 22:05:00</td>\n",
       "    </tr>\n",
       "    <tr>\n",
       "      <th>...</th>\n",
       "      <td>...</td>\n",
       "      <td>...</td>\n",
       "      <td>...</td>\n",
       "      <td>...</td>\n",
       "      <td>...</td>\n",
       "      <td>...</td>\n",
       "      <td>...</td>\n",
       "      <td>...</td>\n",
       "      <td>...</td>\n",
       "      <td>...</td>\n",
       "      <td>...</td>\n",
       "      <td>...</td>\n",
       "    </tr>\n",
       "    <tr>\n",
       "      <th>57</th>\n",
       "      <td>neutral</td>\n",
       "      <td>1</td>\n",
       "      <td>0</td>\n",
       "      <td>0.9076864719390869140625</td>\n",
       "      <td>1723592037</td>\n",
       "      <td>lhznqoc</td>\n",
       "      <td>lhznqoc1723592037</td>\n",
       "      <td>t1_lhznqoc</td>\n",
       "      <td>1_2024-08-13</td>\n",
       "      <td>AnnieIWillKnow</td>\n",
       "      <td>He started against Scotland at the Euros</td>\n",
       "      <td>2024-08-13 23:33:00</td>\n",
       "    </tr>\n",
       "    <tr>\n",
       "      <th>58</th>\n",
       "      <td>negative</td>\n",
       "      <td>1</td>\n",
       "      <td>0</td>\n",
       "      <td>0.649271667003631591796875</td>\n",
       "      <td>1723592039</td>\n",
       "      <td>lhznqtw</td>\n",
       "      <td>lhznqtw1723592039</td>\n",
       "      <td>t1_lhznqtw</td>\n",
       "      <td>1_2024-08-13</td>\n",
       "      <td>haiderhtz</td>\n",
       "      <td>\"city at the top\" narrative with united being ...</td>\n",
       "      <td>2024-08-13 23:33:00</td>\n",
       "    </tr>\n",
       "    <tr>\n",
       "      <th>59</th>\n",
       "      <td>neutral</td>\n",
       "      <td>1</td>\n",
       "      <td>0</td>\n",
       "      <td>0.7144222259521484375</td>\n",
       "      <td>1723592075</td>\n",
       "      <td>lhznubs</td>\n",
       "      <td>lhznubs1723592075</td>\n",
       "      <td>t1_lhznubs</td>\n",
       "      <td>1_2024-08-13</td>\n",
       "      <td>jersey-city-park</td>\n",
       "      <td>Interesting exclusion</td>\n",
       "      <td>2024-08-13 23:34:00</td>\n",
       "    </tr>\n",
       "    <tr>\n",
       "      <th>60</th>\n",
       "      <td>negative</td>\n",
       "      <td>1</td>\n",
       "      <td>0</td>\n",
       "      <td>0.701813042163848876953125</td>\n",
       "      <td>1723592077</td>\n",
       "      <td>lhznuko</td>\n",
       "      <td>lhznuko1723592077</td>\n",
       "      <td>t1_lhznuko</td>\n",
       "      <td>1_2024-08-13</td>\n",
       "      <td>Howyoulikemenoow</td>\n",
       "      <td>It’s not a gamble, it’s incredibly stupid and ...</td>\n",
       "      <td>2024-08-13 23:34:00</td>\n",
       "    </tr>\n",
       "    <tr>\n",
       "      <th>61</th>\n",
       "      <td>neutral</td>\n",
       "      <td>1</td>\n",
       "      <td>0</td>\n",
       "      <td>0.635711252689361572265625</td>\n",
       "      <td>1723592080</td>\n",
       "      <td>lhznutn</td>\n",
       "      <td>lhznutn1723592080</td>\n",
       "      <td>t1_lhznutn</td>\n",
       "      <td>1_2024-08-13</td>\n",
       "      <td>Blakbyrd8</td>\n",
       "      <td>Definitely the England one</td>\n",
       "      <td>2024-08-13 23:34:00</td>\n",
       "    </tr>\n",
       "  </tbody>\n",
       "</table>\n",
       "<p>62 rows × 12 columns</p>\n",
       "</div>"
      ],
      "text/plain": [
       "   sentiment_id upvotes downvotes             sentiment_score   timestamp  \\\n",
       "0      positive       1         0  0.665999114513397216796875  1723586699   \n",
       "1      negative       1         0    0.8972609043121337890625  1723586734   \n",
       "2       neutral       1         0  0.692617475986480712890625  1723586736   \n",
       "3       neutral       1         0   0.62728989124298095703125  1723586743   \n",
       "4      negative       1         0   0.81241357326507568359375  1723586743   \n",
       "..          ...     ...       ...                         ...         ...   \n",
       "57      neutral       1         0    0.9076864719390869140625  1723592037   \n",
       "58     negative       1         0  0.649271667003631591796875  1723592039   \n",
       "59      neutral       1         0       0.7144222259521484375  1723592075   \n",
       "60     negative       1         0  0.701813042163848876953125  1723592077   \n",
       "61      neutral       1         0  0.635711252689361572265625  1723592080   \n",
       "\n",
       "         id comment_id_timestamp        name match_id_date  \\\n",
       "0   lhz95jq    lhz95jq1723586699  t1_lhz95jq  1_2024-08-13   \n",
       "1   lhz996i    lhz996i1723586734  t1_lhz996i  1_2024-08-13   \n",
       "2   lhz99eb    lhz99eb1723586736  t1_lhz99eb  1_2024-08-13   \n",
       "3   lhz9a3t    lhz9a3t1723586743  t1_lhz9a3t  1_2024-08-13   \n",
       "4   lhz9a56    lhz9a561723586743  t1_lhz9a56  1_2024-08-13   \n",
       "..      ...                  ...         ...           ...   \n",
       "57  lhznqoc    lhznqoc1723592037  t1_lhznqoc  1_2024-08-13   \n",
       "58  lhznqtw    lhznqtw1723592039  t1_lhznqtw  1_2024-08-13   \n",
       "59  lhznubs    lhznubs1723592075  t1_lhznubs  1_2024-08-13   \n",
       "60  lhznuko    lhznuko1723592077  t1_lhznuko  1_2024-08-13   \n",
       "61  lhznutn    lhznutn1723592080  t1_lhznutn  1_2024-08-13   \n",
       "\n",
       "                  author                                               body  \\\n",
       "0   Relevant_Western3464                                       Interesting.   \n",
       "1               edi12334  2 goals conceded in 3 minutes too but apparent...   \n",
       "2          Nut-King-Call  Right now Martin Braithwaite is playing in Cop...   \n",
       "3           Careful-Snow                   Running a bit late there Jimothy   \n",
       "4          foolofatook46                 Jesus how did he survive on that??   \n",
       "..                   ...                                                ...   \n",
       "57        AnnieIWillKnow           He started against Scotland at the Euros   \n",
       "58             haiderhtz  \"city at the top\" narrative with united being ...   \n",
       "59      jersey-city-park                             Interesting exclusion    \n",
       "60      Howyoulikemenoow  It’s not a gamble, it’s incredibly stupid and ...   \n",
       "61             Blakbyrd8                         Definitely the England one   \n",
       "\n",
       "                  date  \n",
       "0  2024-08-13 22:04:00  \n",
       "1  2024-08-13 22:05:00  \n",
       "2  2024-08-13 22:05:00  \n",
       "3  2024-08-13 22:05:00  \n",
       "4  2024-08-13 22:05:00  \n",
       "..                 ...  \n",
       "57 2024-08-13 23:33:00  \n",
       "58 2024-08-13 23:33:00  \n",
       "59 2024-08-13 23:34:00  \n",
       "60 2024-08-13 23:34:00  \n",
       "61 2024-08-13 23:34:00  \n",
       "\n",
       "[62 rows x 12 columns]"
      ]
     },
     "execution_count": 92,
     "metadata": {},
     "output_type": "execute_result"
    }
   ],
   "source": [
    "df['date'] = pd.to_datetime(df['timestamp'].astype(int), unit='s').dt.floor('Min')\n",
    "\n",
    "df"
   ]
  },
  {
   "cell_type": "code",
   "execution_count": 112,
   "metadata": {},
   "outputs": [],
   "source": [
    "df_count = df.groupby(['date', 'sentiment_id'], as_index=False)['id'].count().rename(columns={'id': 'count'})"
   ]
  },
  {
   "cell_type": "code",
   "execution_count": 116,
   "metadata": {},
   "outputs": [],
   "source": [
    "df_prop = df.groupby('date', as_index=False)['sentiment_id'].value_counts(normalize=True)"
   ]
  },
  {
   "cell_type": "code",
   "execution_count": 110,
   "metadata": {},
   "outputs": [
    {
     "data": {
      "text/plain": [
       "array([1, 6, 4, 1, 3, 5, 8, 1, 4, 3, 2, 3, 1, 1, 1, 7, 8, 3])"
      ]
     },
     "execution_count": 110,
     "metadata": {},
     "output_type": "execute_result"
    }
   ],
   "source": []
  },
  {
   "cell_type": "code",
   "execution_count": 107,
   "metadata": {},
   "outputs": [
    {
     "data": {
      "text/html": [
       "<div>\n",
       "<style scoped>\n",
       "    .dataframe tbody tr th:only-of-type {\n",
       "        vertical-align: middle;\n",
       "    }\n",
       "\n",
       "    .dataframe tbody tr th {\n",
       "        vertical-align: top;\n",
       "    }\n",
       "\n",
       "    .dataframe thead th {\n",
       "        text-align: right;\n",
       "    }\n",
       "</style>\n",
       "<table border=\"1\" class=\"dataframe\">\n",
       "  <thead>\n",
       "    <tr style=\"text-align: right;\">\n",
       "      <th></th>\n",
       "      <th>date</th>\n",
       "      <th>sentiment_id</th>\n",
       "      <th>count</th>\n",
       "      <th>proportion</th>\n",
       "    </tr>\n",
       "  </thead>\n",
       "  <tbody>\n",
       "    <tr>\n",
       "      <th>0</th>\n",
       "      <td>2024-08-13 22:04:00</td>\n",
       "      <td>positive</td>\n",
       "      <td>1</td>\n",
       "      <td>NaN</td>\n",
       "    </tr>\n",
       "    <tr>\n",
       "      <th>1</th>\n",
       "      <td>2024-08-13 22:05:00</td>\n",
       "      <td>negative</td>\n",
       "      <td>3</td>\n",
       "      <td>NaN</td>\n",
       "    </tr>\n",
       "    <tr>\n",
       "      <th>2</th>\n",
       "      <td>2024-08-13 22:05:00</td>\n",
       "      <td>neutral</td>\n",
       "      <td>2</td>\n",
       "      <td>NaN</td>\n",
       "    </tr>\n",
       "    <tr>\n",
       "      <th>3</th>\n",
       "      <td>2024-08-13 22:05:00</td>\n",
       "      <td>positive</td>\n",
       "      <td>1</td>\n",
       "      <td>NaN</td>\n",
       "    </tr>\n",
       "    <tr>\n",
       "      <th>4</th>\n",
       "      <td>2024-08-13 22:07:00</td>\n",
       "      <td>negative</td>\n",
       "      <td>1</td>\n",
       "      <td>NaN</td>\n",
       "    </tr>\n",
       "    <tr>\n",
       "      <th>5</th>\n",
       "      <td>2024-08-13 22:07:00</td>\n",
       "      <td>neutral</td>\n",
       "      <td>2</td>\n",
       "      <td>NaN</td>\n",
       "    </tr>\n",
       "    <tr>\n",
       "      <th>6</th>\n",
       "      <td>2024-08-13 22:07:00</td>\n",
       "      <td>positive</td>\n",
       "      <td>1</td>\n",
       "      <td>NaN</td>\n",
       "    </tr>\n",
       "    <tr>\n",
       "      <th>7</th>\n",
       "      <td>2024-08-13 22:10:00</td>\n",
       "      <td>neutral</td>\n",
       "      <td>1</td>\n",
       "      <td>NaN</td>\n",
       "    </tr>\n",
       "    <tr>\n",
       "      <th>8</th>\n",
       "      <td>2024-08-13 22:11:00</td>\n",
       "      <td>neutral</td>\n",
       "      <td>2</td>\n",
       "      <td>NaN</td>\n",
       "    </tr>\n",
       "    <tr>\n",
       "      <th>9</th>\n",
       "      <td>2024-08-13 22:11:00</td>\n",
       "      <td>positive</td>\n",
       "      <td>1</td>\n",
       "      <td>NaN</td>\n",
       "    </tr>\n",
       "    <tr>\n",
       "      <th>10</th>\n",
       "      <td>2024-08-13 22:20:00</td>\n",
       "      <td>negative</td>\n",
       "      <td>2</td>\n",
       "      <td>NaN</td>\n",
       "    </tr>\n",
       "    <tr>\n",
       "      <th>11</th>\n",
       "      <td>2024-08-13 22:20:00</td>\n",
       "      <td>neutral</td>\n",
       "      <td>3</td>\n",
       "      <td>NaN</td>\n",
       "    </tr>\n",
       "    <tr>\n",
       "      <th>12</th>\n",
       "      <td>2024-08-13 22:50:00</td>\n",
       "      <td>negative</td>\n",
       "      <td>1</td>\n",
       "      <td>NaN</td>\n",
       "    </tr>\n",
       "    <tr>\n",
       "      <th>13</th>\n",
       "      <td>2024-08-13 22:50:00</td>\n",
       "      <td>neutral</td>\n",
       "      <td>7</td>\n",
       "      <td>NaN</td>\n",
       "    </tr>\n",
       "    <tr>\n",
       "      <th>14</th>\n",
       "      <td>2024-08-13 22:51:00</td>\n",
       "      <td>neutral</td>\n",
       "      <td>1</td>\n",
       "      <td>NaN</td>\n",
       "    </tr>\n",
       "    <tr>\n",
       "      <th>15</th>\n",
       "      <td>2024-08-13 22:56:00</td>\n",
       "      <td>negative</td>\n",
       "      <td>3</td>\n",
       "      <td>NaN</td>\n",
       "    </tr>\n",
       "    <tr>\n",
       "      <th>16</th>\n",
       "      <td>2024-08-13 22:56:00</td>\n",
       "      <td>neutral</td>\n",
       "      <td>1</td>\n",
       "      <td>NaN</td>\n",
       "    </tr>\n",
       "    <tr>\n",
       "      <th>17</th>\n",
       "      <td>2024-08-13 23:04:00</td>\n",
       "      <td>negative</td>\n",
       "      <td>1</td>\n",
       "      <td>NaN</td>\n",
       "    </tr>\n",
       "    <tr>\n",
       "      <th>18</th>\n",
       "      <td>2024-08-13 23:04:00</td>\n",
       "      <td>neutral</td>\n",
       "      <td>2</td>\n",
       "      <td>NaN</td>\n",
       "    </tr>\n",
       "    <tr>\n",
       "      <th>19</th>\n",
       "      <td>2024-08-13 23:08:00</td>\n",
       "      <td>neutral</td>\n",
       "      <td>2</td>\n",
       "      <td>NaN</td>\n",
       "    </tr>\n",
       "    <tr>\n",
       "      <th>20</th>\n",
       "      <td>2024-08-13 23:11:00</td>\n",
       "      <td>negative</td>\n",
       "      <td>2</td>\n",
       "      <td>NaN</td>\n",
       "    </tr>\n",
       "    <tr>\n",
       "      <th>21</th>\n",
       "      <td>2024-08-13 23:11:00</td>\n",
       "      <td>neutral</td>\n",
       "      <td>1</td>\n",
       "      <td>NaN</td>\n",
       "    </tr>\n",
       "    <tr>\n",
       "      <th>22</th>\n",
       "      <td>2024-08-13 23:12:00</td>\n",
       "      <td>positive</td>\n",
       "      <td>1</td>\n",
       "      <td>NaN</td>\n",
       "    </tr>\n",
       "    <tr>\n",
       "      <th>23</th>\n",
       "      <td>2024-08-13 23:13:00</td>\n",
       "      <td>negative</td>\n",
       "      <td>1</td>\n",
       "      <td>NaN</td>\n",
       "    </tr>\n",
       "    <tr>\n",
       "      <th>24</th>\n",
       "      <td>2024-08-13 23:31:00</td>\n",
       "      <td>neutral</td>\n",
       "      <td>1</td>\n",
       "      <td>NaN</td>\n",
       "    </tr>\n",
       "    <tr>\n",
       "      <th>25</th>\n",
       "      <td>2024-08-13 23:32:00</td>\n",
       "      <td>negative</td>\n",
       "      <td>2</td>\n",
       "      <td>NaN</td>\n",
       "    </tr>\n",
       "    <tr>\n",
       "      <th>26</th>\n",
       "      <td>2024-08-13 23:32:00</td>\n",
       "      <td>neutral</td>\n",
       "      <td>4</td>\n",
       "      <td>NaN</td>\n",
       "    </tr>\n",
       "    <tr>\n",
       "      <th>27</th>\n",
       "      <td>2024-08-13 23:32:00</td>\n",
       "      <td>positive</td>\n",
       "      <td>1</td>\n",
       "      <td>NaN</td>\n",
       "    </tr>\n",
       "    <tr>\n",
       "      <th>28</th>\n",
       "      <td>2024-08-13 23:33:00</td>\n",
       "      <td>negative</td>\n",
       "      <td>1</td>\n",
       "      <td>NaN</td>\n",
       "    </tr>\n",
       "    <tr>\n",
       "      <th>29</th>\n",
       "      <td>2024-08-13 23:33:00</td>\n",
       "      <td>neutral</td>\n",
       "      <td>4</td>\n",
       "      <td>NaN</td>\n",
       "    </tr>\n",
       "    <tr>\n",
       "      <th>30</th>\n",
       "      <td>2024-08-13 23:33:00</td>\n",
       "      <td>positive</td>\n",
       "      <td>3</td>\n",
       "      <td>NaN</td>\n",
       "    </tr>\n",
       "    <tr>\n",
       "      <th>31</th>\n",
       "      <td>2024-08-13 23:34:00</td>\n",
       "      <td>negative</td>\n",
       "      <td>1</td>\n",
       "      <td>NaN</td>\n",
       "    </tr>\n",
       "    <tr>\n",
       "      <th>32</th>\n",
       "      <td>2024-08-13 23:34:00</td>\n",
       "      <td>neutral</td>\n",
       "      <td>2</td>\n",
       "      <td>NaN</td>\n",
       "    </tr>\n",
       "  </tbody>\n",
       "</table>\n",
       "</div>"
      ],
      "text/plain": [
       "                  date sentiment_id  count  proportion\n",
       "0  2024-08-13 22:04:00     positive      1         NaN\n",
       "1  2024-08-13 22:05:00     negative      3         NaN\n",
       "2  2024-08-13 22:05:00      neutral      2         NaN\n",
       "3  2024-08-13 22:05:00     positive      1         NaN\n",
       "4  2024-08-13 22:07:00     negative      1         NaN\n",
       "5  2024-08-13 22:07:00      neutral      2         NaN\n",
       "6  2024-08-13 22:07:00     positive      1         NaN\n",
       "7  2024-08-13 22:10:00      neutral      1         NaN\n",
       "8  2024-08-13 22:11:00      neutral      2         NaN\n",
       "9  2024-08-13 22:11:00     positive      1         NaN\n",
       "10 2024-08-13 22:20:00     negative      2         NaN\n",
       "11 2024-08-13 22:20:00      neutral      3         NaN\n",
       "12 2024-08-13 22:50:00     negative      1         NaN\n",
       "13 2024-08-13 22:50:00      neutral      7         NaN\n",
       "14 2024-08-13 22:51:00      neutral      1         NaN\n",
       "15 2024-08-13 22:56:00     negative      3         NaN\n",
       "16 2024-08-13 22:56:00      neutral      1         NaN\n",
       "17 2024-08-13 23:04:00     negative      1         NaN\n",
       "18 2024-08-13 23:04:00      neutral      2         NaN\n",
       "19 2024-08-13 23:08:00      neutral      2         NaN\n",
       "20 2024-08-13 23:11:00     negative      2         NaN\n",
       "21 2024-08-13 23:11:00      neutral      1         NaN\n",
       "22 2024-08-13 23:12:00     positive      1         NaN\n",
       "23 2024-08-13 23:13:00     negative      1         NaN\n",
       "24 2024-08-13 23:31:00      neutral      1         NaN\n",
       "25 2024-08-13 23:32:00     negative      2         NaN\n",
       "26 2024-08-13 23:32:00      neutral      4         NaN\n",
       "27 2024-08-13 23:32:00     positive      1         NaN\n",
       "28 2024-08-13 23:33:00     negative      1         NaN\n",
       "29 2024-08-13 23:33:00      neutral      4         NaN\n",
       "30 2024-08-13 23:33:00     positive      3         NaN\n",
       "31 2024-08-13 23:34:00     negative      1         NaN\n",
       "32 2024-08-13 23:34:00      neutral      2         NaN"
      ]
     },
     "execution_count": 107,
     "metadata": {},
     "output_type": "execute_result"
    }
   ],
   "source": [
    "df_count"
   ]
  },
  {
   "cell_type": "code",
   "execution_count": 119,
   "metadata": {},
   "outputs": [
    {
     "data": {
      "application/vnd.plotly.v1+json": {
       "config": {
        "plotlyServerURL": "https://plot.ly"
       },
       "data": [
        {
         "hovertemplate": "sentiment_id=positive<br>date=%{x}<br>count=%{y}<extra></extra>",
         "legendgroup": "positive",
         "line": {
          "color": "red",
          "dash": "solid"
         },
         "marker": {
          "symbol": "circle"
         },
         "mode": "lines",
         "name": "positive",
         "orientation": "v",
         "showlegend": true,
         "type": "scatter",
         "x": [
          "2024-08-13T22:04:00",
          "2024-08-13T22:05:00",
          "2024-08-13T22:07:00",
          "2024-08-13T22:11:00",
          "2024-08-13T23:12:00",
          "2024-08-13T23:32:00",
          "2024-08-13T23:33:00"
         ],
         "xaxis": "x",
         "y": [
          1,
          1,
          1,
          1,
          1,
          1,
          3
         ],
         "yaxis": "y"
        },
        {
         "hovertemplate": "sentiment_id=negative<br>date=%{x}<br>count=%{y}<extra></extra>",
         "legendgroup": "negative",
         "line": {
          "color": "blue",
          "dash": "solid"
         },
         "marker": {
          "symbol": "circle"
         },
         "mode": "lines",
         "name": "negative",
         "orientation": "v",
         "showlegend": true,
         "type": "scatter",
         "x": [
          "2024-08-13T22:05:00",
          "2024-08-13T22:07:00",
          "2024-08-13T22:20:00",
          "2024-08-13T22:50:00",
          "2024-08-13T22:56:00",
          "2024-08-13T23:04:00",
          "2024-08-13T23:11:00",
          "2024-08-13T23:13:00",
          "2024-08-13T23:32:00",
          "2024-08-13T23:33:00",
          "2024-08-13T23:34:00"
         ],
         "xaxis": "x",
         "y": [
          3,
          1,
          2,
          1,
          3,
          1,
          2,
          1,
          2,
          1,
          1
         ],
         "yaxis": "y"
        },
        {
         "hovertemplate": "sentiment_id=neutral<br>date=%{x}<br>count=%{y}<extra></extra>",
         "legendgroup": "neutral",
         "line": {
          "color": "grey",
          "dash": "solid"
         },
         "marker": {
          "symbol": "circle"
         },
         "mode": "lines",
         "name": "neutral",
         "orientation": "v",
         "showlegend": true,
         "type": "scatter",
         "x": [
          "2024-08-13T22:05:00",
          "2024-08-13T22:07:00",
          "2024-08-13T22:10:00",
          "2024-08-13T22:11:00",
          "2024-08-13T22:20:00",
          "2024-08-13T22:50:00",
          "2024-08-13T22:51:00",
          "2024-08-13T22:56:00",
          "2024-08-13T23:04:00",
          "2024-08-13T23:08:00",
          "2024-08-13T23:11:00",
          "2024-08-13T23:31:00",
          "2024-08-13T23:32:00",
          "2024-08-13T23:33:00",
          "2024-08-13T23:34:00"
         ],
         "xaxis": "x",
         "y": [
          2,
          2,
          1,
          2,
          3,
          7,
          1,
          1,
          2,
          2,
          1,
          1,
          4,
          4,
          2
         ],
         "yaxis": "y"
        }
       ],
       "layout": {
        "legend": {
         "title": {
          "text": "sentiment_id"
         },
         "tracegroupgap": 0
        },
        "margin": {
         "t": 60
        },
        "template": {
         "data": {
          "bar": [
           {
            "error_x": {
             "color": "rgb(36,36,36)"
            },
            "error_y": {
             "color": "rgb(36,36,36)"
            },
            "marker": {
             "line": {
              "color": "white",
              "width": 0.5
             },
             "pattern": {
              "fillmode": "overlay",
              "size": 10,
              "solidity": 0.2
             }
            },
            "type": "bar"
           }
          ],
          "barpolar": [
           {
            "marker": {
             "line": {
              "color": "white",
              "width": 0.5
             },
             "pattern": {
              "fillmode": "overlay",
              "size": 10,
              "solidity": 0.2
             }
            },
            "type": "barpolar"
           }
          ],
          "carpet": [
           {
            "aaxis": {
             "endlinecolor": "rgb(36,36,36)",
             "gridcolor": "white",
             "linecolor": "white",
             "minorgridcolor": "white",
             "startlinecolor": "rgb(36,36,36)"
            },
            "baxis": {
             "endlinecolor": "rgb(36,36,36)",
             "gridcolor": "white",
             "linecolor": "white",
             "minorgridcolor": "white",
             "startlinecolor": "rgb(36,36,36)"
            },
            "type": "carpet"
           }
          ],
          "choropleth": [
           {
            "colorbar": {
             "outlinewidth": 1,
             "tickcolor": "rgb(36,36,36)",
             "ticks": "outside"
            },
            "type": "choropleth"
           }
          ],
          "contour": [
           {
            "colorbar": {
             "outlinewidth": 1,
             "tickcolor": "rgb(36,36,36)",
             "ticks": "outside"
            },
            "colorscale": [
             [
              0,
              "#440154"
             ],
             [
              0.1111111111111111,
              "#482878"
             ],
             [
              0.2222222222222222,
              "#3e4989"
             ],
             [
              0.3333333333333333,
              "#31688e"
             ],
             [
              0.4444444444444444,
              "#26828e"
             ],
             [
              0.5555555555555556,
              "#1f9e89"
             ],
             [
              0.6666666666666666,
              "#35b779"
             ],
             [
              0.7777777777777778,
              "#6ece58"
             ],
             [
              0.8888888888888888,
              "#b5de2b"
             ],
             [
              1,
              "#fde725"
             ]
            ],
            "type": "contour"
           }
          ],
          "contourcarpet": [
           {
            "colorbar": {
             "outlinewidth": 1,
             "tickcolor": "rgb(36,36,36)",
             "ticks": "outside"
            },
            "type": "contourcarpet"
           }
          ],
          "heatmap": [
           {
            "colorbar": {
             "outlinewidth": 1,
             "tickcolor": "rgb(36,36,36)",
             "ticks": "outside"
            },
            "colorscale": [
             [
              0,
              "#440154"
             ],
             [
              0.1111111111111111,
              "#482878"
             ],
             [
              0.2222222222222222,
              "#3e4989"
             ],
             [
              0.3333333333333333,
              "#31688e"
             ],
             [
              0.4444444444444444,
              "#26828e"
             ],
             [
              0.5555555555555556,
              "#1f9e89"
             ],
             [
              0.6666666666666666,
              "#35b779"
             ],
             [
              0.7777777777777778,
              "#6ece58"
             ],
             [
              0.8888888888888888,
              "#b5de2b"
             ],
             [
              1,
              "#fde725"
             ]
            ],
            "type": "heatmap"
           }
          ],
          "heatmapgl": [
           {
            "colorbar": {
             "outlinewidth": 1,
             "tickcolor": "rgb(36,36,36)",
             "ticks": "outside"
            },
            "colorscale": [
             [
              0,
              "#440154"
             ],
             [
              0.1111111111111111,
              "#482878"
             ],
             [
              0.2222222222222222,
              "#3e4989"
             ],
             [
              0.3333333333333333,
              "#31688e"
             ],
             [
              0.4444444444444444,
              "#26828e"
             ],
             [
              0.5555555555555556,
              "#1f9e89"
             ],
             [
              0.6666666666666666,
              "#35b779"
             ],
             [
              0.7777777777777778,
              "#6ece58"
             ],
             [
              0.8888888888888888,
              "#b5de2b"
             ],
             [
              1,
              "#fde725"
             ]
            ],
            "type": "heatmapgl"
           }
          ],
          "histogram": [
           {
            "marker": {
             "line": {
              "color": "white",
              "width": 0.6
             }
            },
            "type": "histogram"
           }
          ],
          "histogram2d": [
           {
            "colorbar": {
             "outlinewidth": 1,
             "tickcolor": "rgb(36,36,36)",
             "ticks": "outside"
            },
            "colorscale": [
             [
              0,
              "#440154"
             ],
             [
              0.1111111111111111,
              "#482878"
             ],
             [
              0.2222222222222222,
              "#3e4989"
             ],
             [
              0.3333333333333333,
              "#31688e"
             ],
             [
              0.4444444444444444,
              "#26828e"
             ],
             [
              0.5555555555555556,
              "#1f9e89"
             ],
             [
              0.6666666666666666,
              "#35b779"
             ],
             [
              0.7777777777777778,
              "#6ece58"
             ],
             [
              0.8888888888888888,
              "#b5de2b"
             ],
             [
              1,
              "#fde725"
             ]
            ],
            "type": "histogram2d"
           }
          ],
          "histogram2dcontour": [
           {
            "colorbar": {
             "outlinewidth": 1,
             "tickcolor": "rgb(36,36,36)",
             "ticks": "outside"
            },
            "colorscale": [
             [
              0,
              "#440154"
             ],
             [
              0.1111111111111111,
              "#482878"
             ],
             [
              0.2222222222222222,
              "#3e4989"
             ],
             [
              0.3333333333333333,
              "#31688e"
             ],
             [
              0.4444444444444444,
              "#26828e"
             ],
             [
              0.5555555555555556,
              "#1f9e89"
             ],
             [
              0.6666666666666666,
              "#35b779"
             ],
             [
              0.7777777777777778,
              "#6ece58"
             ],
             [
              0.8888888888888888,
              "#b5de2b"
             ],
             [
              1,
              "#fde725"
             ]
            ],
            "type": "histogram2dcontour"
           }
          ],
          "mesh3d": [
           {
            "colorbar": {
             "outlinewidth": 1,
             "tickcolor": "rgb(36,36,36)",
             "ticks": "outside"
            },
            "type": "mesh3d"
           }
          ],
          "parcoords": [
           {
            "line": {
             "colorbar": {
              "outlinewidth": 1,
              "tickcolor": "rgb(36,36,36)",
              "ticks": "outside"
             }
            },
            "type": "parcoords"
           }
          ],
          "pie": [
           {
            "automargin": true,
            "type": "pie"
           }
          ],
          "scatter": [
           {
            "fillpattern": {
             "fillmode": "overlay",
             "size": 10,
             "solidity": 0.2
            },
            "type": "scatter"
           }
          ],
          "scatter3d": [
           {
            "line": {
             "colorbar": {
              "outlinewidth": 1,
              "tickcolor": "rgb(36,36,36)",
              "ticks": "outside"
             }
            },
            "marker": {
             "colorbar": {
              "outlinewidth": 1,
              "tickcolor": "rgb(36,36,36)",
              "ticks": "outside"
             }
            },
            "type": "scatter3d"
           }
          ],
          "scattercarpet": [
           {
            "marker": {
             "colorbar": {
              "outlinewidth": 1,
              "tickcolor": "rgb(36,36,36)",
              "ticks": "outside"
             }
            },
            "type": "scattercarpet"
           }
          ],
          "scattergeo": [
           {
            "marker": {
             "colorbar": {
              "outlinewidth": 1,
              "tickcolor": "rgb(36,36,36)",
              "ticks": "outside"
             }
            },
            "type": "scattergeo"
           }
          ],
          "scattergl": [
           {
            "marker": {
             "colorbar": {
              "outlinewidth": 1,
              "tickcolor": "rgb(36,36,36)",
              "ticks": "outside"
             }
            },
            "type": "scattergl"
           }
          ],
          "scattermapbox": [
           {
            "marker": {
             "colorbar": {
              "outlinewidth": 1,
              "tickcolor": "rgb(36,36,36)",
              "ticks": "outside"
             }
            },
            "type": "scattermapbox"
           }
          ],
          "scatterpolar": [
           {
            "marker": {
             "colorbar": {
              "outlinewidth": 1,
              "tickcolor": "rgb(36,36,36)",
              "ticks": "outside"
             }
            },
            "type": "scatterpolar"
           }
          ],
          "scatterpolargl": [
           {
            "marker": {
             "colorbar": {
              "outlinewidth": 1,
              "tickcolor": "rgb(36,36,36)",
              "ticks": "outside"
             }
            },
            "type": "scatterpolargl"
           }
          ],
          "scatterternary": [
           {
            "marker": {
             "colorbar": {
              "outlinewidth": 1,
              "tickcolor": "rgb(36,36,36)",
              "ticks": "outside"
             }
            },
            "type": "scatterternary"
           }
          ],
          "surface": [
           {
            "colorbar": {
             "outlinewidth": 1,
             "tickcolor": "rgb(36,36,36)",
             "ticks": "outside"
            },
            "colorscale": [
             [
              0,
              "#440154"
             ],
             [
              0.1111111111111111,
              "#482878"
             ],
             [
              0.2222222222222222,
              "#3e4989"
             ],
             [
              0.3333333333333333,
              "#31688e"
             ],
             [
              0.4444444444444444,
              "#26828e"
             ],
             [
              0.5555555555555556,
              "#1f9e89"
             ],
             [
              0.6666666666666666,
              "#35b779"
             ],
             [
              0.7777777777777778,
              "#6ece58"
             ],
             [
              0.8888888888888888,
              "#b5de2b"
             ],
             [
              1,
              "#fde725"
             ]
            ],
            "type": "surface"
           }
          ],
          "table": [
           {
            "cells": {
             "fill": {
              "color": "rgb(237,237,237)"
             },
             "line": {
              "color": "white"
             }
            },
            "header": {
             "fill": {
              "color": "rgb(217,217,217)"
             },
             "line": {
              "color": "white"
             }
            },
            "type": "table"
           }
          ]
         },
         "layout": {
          "annotationdefaults": {
           "arrowhead": 0,
           "arrowwidth": 1
          },
          "autotypenumbers": "strict",
          "coloraxis": {
           "colorbar": {
            "outlinewidth": 1,
            "tickcolor": "rgb(36,36,36)",
            "ticks": "outside"
           }
          },
          "colorscale": {
           "diverging": [
            [
             0,
             "rgb(103,0,31)"
            ],
            [
             0.1,
             "rgb(178,24,43)"
            ],
            [
             0.2,
             "rgb(214,96,77)"
            ],
            [
             0.3,
             "rgb(244,165,130)"
            ],
            [
             0.4,
             "rgb(253,219,199)"
            ],
            [
             0.5,
             "rgb(247,247,247)"
            ],
            [
             0.6,
             "rgb(209,229,240)"
            ],
            [
             0.7,
             "rgb(146,197,222)"
            ],
            [
             0.8,
             "rgb(67,147,195)"
            ],
            [
             0.9,
             "rgb(33,102,172)"
            ],
            [
             1,
             "rgb(5,48,97)"
            ]
           ],
           "sequential": [
            [
             0,
             "#440154"
            ],
            [
             0.1111111111111111,
             "#482878"
            ],
            [
             0.2222222222222222,
             "#3e4989"
            ],
            [
             0.3333333333333333,
             "#31688e"
            ],
            [
             0.4444444444444444,
             "#26828e"
            ],
            [
             0.5555555555555556,
             "#1f9e89"
            ],
            [
             0.6666666666666666,
             "#35b779"
            ],
            [
             0.7777777777777778,
             "#6ece58"
            ],
            [
             0.8888888888888888,
             "#b5de2b"
            ],
            [
             1,
             "#fde725"
            ]
           ],
           "sequentialminus": [
            [
             0,
             "#440154"
            ],
            [
             0.1111111111111111,
             "#482878"
            ],
            [
             0.2222222222222222,
             "#3e4989"
            ],
            [
             0.3333333333333333,
             "#31688e"
            ],
            [
             0.4444444444444444,
             "#26828e"
            ],
            [
             0.5555555555555556,
             "#1f9e89"
            ],
            [
             0.6666666666666666,
             "#35b779"
            ],
            [
             0.7777777777777778,
             "#6ece58"
            ],
            [
             0.8888888888888888,
             "#b5de2b"
            ],
            [
             1,
             "#fde725"
            ]
           ]
          },
          "colorway": [
           "#1F77B4",
           "#FF7F0E",
           "#2CA02C",
           "#D62728",
           "#9467BD",
           "#8C564B",
           "#E377C2",
           "#7F7F7F",
           "#BCBD22",
           "#17BECF"
          ],
          "font": {
           "color": "rgb(36,36,36)"
          },
          "geo": {
           "bgcolor": "white",
           "lakecolor": "white",
           "landcolor": "white",
           "showlakes": true,
           "showland": true,
           "subunitcolor": "white"
          },
          "hoverlabel": {
           "align": "left"
          },
          "hovermode": "closest",
          "mapbox": {
           "style": "light"
          },
          "paper_bgcolor": "white",
          "plot_bgcolor": "white",
          "polar": {
           "angularaxis": {
            "gridcolor": "rgb(232,232,232)",
            "linecolor": "rgb(36,36,36)",
            "showgrid": false,
            "showline": true,
            "ticks": "outside"
           },
           "bgcolor": "white",
           "radialaxis": {
            "gridcolor": "rgb(232,232,232)",
            "linecolor": "rgb(36,36,36)",
            "showgrid": false,
            "showline": true,
            "ticks": "outside"
           }
          },
          "scene": {
           "xaxis": {
            "backgroundcolor": "white",
            "gridcolor": "rgb(232,232,232)",
            "gridwidth": 2,
            "linecolor": "rgb(36,36,36)",
            "showbackground": true,
            "showgrid": false,
            "showline": true,
            "ticks": "outside",
            "zeroline": false,
            "zerolinecolor": "rgb(36,36,36)"
           },
           "yaxis": {
            "backgroundcolor": "white",
            "gridcolor": "rgb(232,232,232)",
            "gridwidth": 2,
            "linecolor": "rgb(36,36,36)",
            "showbackground": true,
            "showgrid": false,
            "showline": true,
            "ticks": "outside",
            "zeroline": false,
            "zerolinecolor": "rgb(36,36,36)"
           },
           "zaxis": {
            "backgroundcolor": "white",
            "gridcolor": "rgb(232,232,232)",
            "gridwidth": 2,
            "linecolor": "rgb(36,36,36)",
            "showbackground": true,
            "showgrid": false,
            "showline": true,
            "ticks": "outside",
            "zeroline": false,
            "zerolinecolor": "rgb(36,36,36)"
           }
          },
          "shapedefaults": {
           "fillcolor": "black",
           "line": {
            "width": 0
           },
           "opacity": 0.3
          },
          "ternary": {
           "aaxis": {
            "gridcolor": "rgb(232,232,232)",
            "linecolor": "rgb(36,36,36)",
            "showgrid": false,
            "showline": true,
            "ticks": "outside"
           },
           "baxis": {
            "gridcolor": "rgb(232,232,232)",
            "linecolor": "rgb(36,36,36)",
            "showgrid": false,
            "showline": true,
            "ticks": "outside"
           },
           "bgcolor": "white",
           "caxis": {
            "gridcolor": "rgb(232,232,232)",
            "linecolor": "rgb(36,36,36)",
            "showgrid": false,
            "showline": true,
            "ticks": "outside"
           }
          },
          "title": {
           "x": 0.05
          },
          "xaxis": {
           "automargin": true,
           "gridcolor": "rgb(232,232,232)",
           "linecolor": "rgb(36,36,36)",
           "showgrid": false,
           "showline": true,
           "ticks": "outside",
           "title": {
            "standoff": 15
           },
           "zeroline": false,
           "zerolinecolor": "rgb(36,36,36)"
          },
          "yaxis": {
           "automargin": true,
           "gridcolor": "rgb(232,232,232)",
           "linecolor": "rgb(36,36,36)",
           "showgrid": false,
           "showline": true,
           "ticks": "outside",
           "title": {
            "standoff": 15
           },
           "zeroline": false,
           "zerolinecolor": "rgb(36,36,36)"
          }
         }
        },
        "xaxis": {
         "anchor": "y",
         "domain": [
          0,
          1
         ],
         "title": {
          "text": "date"
         }
        },
        "yaxis": {
         "anchor": "x",
         "domain": [
          0,
          1
         ],
         "title": {
          "text": "count"
         }
        }
       }
      }
     },
     "metadata": {},
     "output_type": "display_data"
    }
   ],
   "source": [
    "import plotly.express as px\n",
    "\n",
    "fig = px.line(df_count,\n",
    "                  x='date',\n",
    "                  y='count',\n",
    "                  color='sentiment_id',\n",
    "                  template='simple_white',\n",
    "                  color_discrete_map={'positive': 'red',\n",
    "                                      'neutral': 'grey',\n",
    "                                      'negative': 'blue'})\n",
    "\n",
    "fig.show()"
   ]
  },
  {
   "cell_type": "code",
   "execution_count": 54,
   "metadata": {},
   "outputs": [
    {
     "data": {
      "text/plain": [
       "'eyJtYXRjaF9rZXl3b3JkcyI6ICJnb2FsIiwgInRpbWVzdGFtcCI6ICIxNjI3ODQ2MjYyIiwgImlkIjogIjEyMzQ1IiwgIm5hbWUiOiAiVGVzdCBDb21tZW50IiwgImF1dGhvciI6ICJ0ZXN0X2F1dGhvciIsICJib2R5IjogIlRoaXMgaXMgYSB0ZXN0IGNvbW1lbnQiLCAidXB2b3RlcyI6ICIxMCIsICJkb3dudm90ZXMiOiAiMSJ9'"
      ]
     },
     "execution_count": 54,
     "metadata": {},
     "output_type": "execute_result"
    }
   ],
   "source": [
    "data"
   ]
  },
  {
   "cell_type": "code",
   "execution_count": 93,
   "metadata": {},
   "outputs": [
    {
     "data": {
      "text/plain": [
       "datetime.datetime(2024, 8, 13, 17, 14, 30, 193542)"
      ]
     },
     "execution_count": 93,
     "metadata": {},
     "output_type": "execute_result"
    }
   ],
   "source": [
    "import datetime\n",
    "\n",
    "datetime.datetime.today()"
   ]
  },
  {
   "cell_type": "code",
   "execution_count": null,
   "metadata": {},
   "outputs": [],
   "source": []
  },
  {
   "cell_type": "code",
   "execution_count": null,
   "metadata": {},
   "outputs": [],
   "source": []
  },
  {
   "cell_type": "code",
   "execution_count": null,
   "metadata": {},
   "outputs": [],
   "source": []
  }
 ],
 "metadata": {
  "kernelspec": {
   "display_name": "twitter_sentiment_analysis",
   "language": "python",
   "name": "python3"
  },
  "language_info": {
   "codemirror_mode": {
    "name": "ipython",
    "version": 3
   },
   "file_extension": ".py",
   "mimetype": "text/x-python",
   "name": "python",
   "nbconvert_exporter": "python",
   "pygments_lexer": "ipython3",
   "version": "3.11.9"
  }
 },
 "nbformat": 4,
 "nbformat_minor": 2
}
