{
 "cells": [
  {
   "cell_type": "markdown",
   "metadata": {},
   "source": []
  },
  {
   "cell_type": "code",
   "execution_count": 244,
   "metadata": {},
   "outputs": [],
   "source": [
    "\"\"\"\n",
    "Defines a DynamoDB table containing Reddit comment data and methods to interact with that table.\n",
    "\"\"\"\n",
    "from decimal import Decimal\n",
    "from botocore.exceptions import ClientError\n",
    "from boto3.dynamodb.conditions import Key\n",
    "\n",
    "class Comment:\n",
    "    \"\"\"\n",
    "    Encapsulates a DynamoDB table of comment data.\n",
    "    \"\"\"\n",
    "\n",
    "    def __init__(self,\n",
    "                 dyn_resource):\n",
    "        \"\"\"\n",
    "        Args:\n",
    "            dyn_resource: A Boto3 DynamoDB resource.\n",
    "        \"\"\"\n",
    "\n",
    "        self.dyn_resource = dyn_resource\n",
    "        # Table variable is set during call to exists.\n",
    "        self.table = None\n",
    "\n",
    "\n",
    "    def exists(self, table_name: str) -> bool:\n",
    "        \"\"\"\n",
    "        Determines whether or not a table exsits. If the table exists, stores it as instance\n",
    "        variable defining table to be used.\n",
    "\n",
    "        Args:\n",
    "            table_name: The name of the table to check.\n",
    "\n",
    "        Returns:\n",
    "            True when the table exists, False otherwise.\n",
    "        \"\"\"\n",
    "\n",
    "        try:\n",
    "            table = self.dyn_resource.Table(table_name)\n",
    "            table.load()\n",
    "            exists = True\n",
    "        except ClientError as err:\n",
    "            if err.response[\"Error\"][\"Code\"] == \"ResourceNotFoundException\":\n",
    "                exists = False\n",
    "            else:\n",
    "                print(f\"Couldnt check for existence: {err.response['Error']['Code']}, \\\n",
    "                      {err.response['Error']['Message']}\")\n",
    "\n",
    "\n",
    "        self.table = table\n",
    "\n",
    "        return exists\n",
    "\n",
    "\n",
    "\n",
    "    def add_comment(self, data: dict):\n",
    "        \"\"\"\n",
    "        Adds a comment record to the table.\n",
    "        \n",
    "        Args:\n",
    "            data: Json data containing comment information\n",
    "        \"\"\"\n",
    "\n",
    "        try:\n",
    "            self.table.put_item(\n",
    "                Item={\n",
    "                    'match_ID_timestamp': data['match_keywords'] + '_' + str(data['timestamp']),\n",
    "                    'sentiment_id': data['label'],\n",
    "                    'sentiment_score': Decimal(data['score']),\n",
    "                    'id': data['id'],\n",
    "                    'name': data['name'],\n",
    "                    'author': data['author'],\n",
    "                    'body': data['body'],\n",
    "                    'upvotes': data['upvotes'],\n",
    "                    'downvotes': data['downvotes'],\n",
    "                    'timestamp': int(data['timestamp']),\n",
    "                }\n",
    "            )\n",
    "\n",
    "        except ClientError as err:\n",
    "            print(f\"Couldnt add comment to table: {err.response['Error']['Code']}, \\\n",
    "                      {err.response['Error']['Message']}\")\n",
    "            \n",
    "\n",
    "    def query_comments(self, team_name):\n",
    "        \"\"\"\n",
    "        Queries for comments with a specific match id and date key.\n",
    "\n",
    "        Args:\n",
    "        match_id_date: The match id and date to query\n",
    "        \n",
    "        Returns:\n",
    "        The list of comments with the specific match id and date.\n",
    "        \"\"\"\n",
    "\n",
    "        try:\n",
    "            response = self.table.query(KeyConditionExpression=Key(\"team_name\")\n",
    "                                        .eq(team_name))\n",
    "        except ClientError as err:\n",
    "            print(f\"Couldnt query for comments with {match_id_date}: \\\n",
    "                  {err.response['Error']['Code']}, {err.response['Error']['Message']}\")\n",
    "        else:\n",
    "            return response[\"Items\"]\n"
   ]
  },
  {
   "cell_type": "markdown",
   "metadata": {},
   "source": [
    "Connect to the database and query a sample set of data"
   ]
  },
  {
   "cell_type": "code",
   "execution_count": 245,
   "metadata": {},
   "outputs": [
    {
     "data": {
      "text/plain": [
       "True"
      ]
     },
     "execution_count": 245,
     "metadata": {},
     "output_type": "execute_result"
    }
   ],
   "source": [
    "import boto3\n",
    "\n",
    "dyn_resource = boto3.resource('dynamodb')\n",
    "comment_table = Comment(dyn_resource=dyn_resource)\n",
    "comment_table.exists('soccer_comment_data')"
   ]
  },
  {
   "cell_type": "code",
   "execution_count": 246,
   "metadata": {},
   "outputs": [],
   "source": [
    "raw_data = comment_table.query_comments(team_name='liverpool')"
   ]
  },
  {
   "cell_type": "code",
   "execution_count": 247,
   "metadata": {},
   "outputs": [
    {
     "data": {
      "text/html": [
       "<div>\n",
       "<style scoped>\n",
       "    .dataframe tbody tr th:only-of-type {\n",
       "        vertical-align: middle;\n",
       "    }\n",
       "\n",
       "    .dataframe tbody tr th {\n",
       "        vertical-align: top;\n",
       "    }\n",
       "\n",
       "    .dataframe thead th {\n",
       "        text-align: right;\n",
       "    }\n",
       "</style>\n",
       "<table border=\"1\" class=\"dataframe\">\n",
       "  <thead>\n",
       "    <tr style=\"text-align: right;\">\n",
       "      <th></th>\n",
       "      <th>sentiment_id</th>\n",
       "      <th>upvotes</th>\n",
       "      <th>team_name</th>\n",
       "      <th>downvotes</th>\n",
       "      <th>sentiment_score</th>\n",
       "      <th>subreddit</th>\n",
       "      <th>timestamp</th>\n",
       "      <th>id</th>\n",
       "      <th>comment_id_timestamp</th>\n",
       "      <th>name</th>\n",
       "      <th>author</th>\n",
       "      <th>body</th>\n",
       "    </tr>\n",
       "  </thead>\n",
       "  <tbody>\n",
       "    <tr>\n",
       "      <th>0</th>\n",
       "      <td>neutral</td>\n",
       "      <td>1</td>\n",
       "      <td>liverpool</td>\n",
       "      <td>0</td>\n",
       "      <td>0.911610901355743408203125</td>\n",
       "      <td>LiverpoolFC</td>\n",
       "      <td>1723678134</td>\n",
       "      <td>li5mpvx</td>\n",
       "      <td>li5mpvx1723678134</td>\n",
       "      <td>t1_li5mpvx</td>\n",
       "      <td>themanebeat</td>\n",
       "      <td>Rush played for 6 seasons in the \"prem era\"</td>\n",
       "    </tr>\n",
       "    <tr>\n",
       "      <th>1</th>\n",
       "      <td>positive</td>\n",
       "      <td>1</td>\n",
       "      <td>liverpool</td>\n",
       "      <td>0</td>\n",
       "      <td>0.616176903247833251953125</td>\n",
       "      <td>LiverpoolFC</td>\n",
       "      <td>1723678161</td>\n",
       "      <td>li5msju</td>\n",
       "      <td>li5msju1723678161</td>\n",
       "      <td>t1_li5msju</td>\n",
       "      <td>IggiePopp</td>\n",
       "      <td>Suarez. It wasn't pretty but it was relentless...</td>\n",
       "    </tr>\n",
       "    <tr>\n",
       "      <th>2</th>\n",
       "      <td>positive</td>\n",
       "      <td>1</td>\n",
       "      <td>liverpool</td>\n",
       "      <td>0</td>\n",
       "      <td>0.615728557109832763671875</td>\n",
       "      <td>LiverpoolFC</td>\n",
       "      <td>1723678175</td>\n",
       "      <td>li5mtyk</td>\n",
       "      <td>li5mtyk1723678175</td>\n",
       "      <td>t1_li5mtyk</td>\n",
       "      <td>Vikilinho</td>\n",
       "      <td>Yes! Straight forward answer. We came third la...</td>\n",
       "    </tr>\n",
       "    <tr>\n",
       "      <th>3</th>\n",
       "      <td>neutral</td>\n",
       "      <td>1</td>\n",
       "      <td>liverpool</td>\n",
       "      <td>0</td>\n",
       "      <td>0.852159082889556884765625</td>\n",
       "      <td>soccer</td>\n",
       "      <td>1723678192</td>\n",
       "      <td>li5mvpu</td>\n",
       "      <td>li5mvpu1723678192</td>\n",
       "      <td>t1_li5mvpu</td>\n",
       "      <td>techaansi</td>\n",
       "      <td>Saving for what exactly?</td>\n",
       "    </tr>\n",
       "    <tr>\n",
       "      <th>4</th>\n",
       "      <td>negative</td>\n",
       "      <td>1</td>\n",
       "      <td>liverpool</td>\n",
       "      <td>0</td>\n",
       "      <td>0.49875414371490478515625</td>\n",
       "      <td>LiverpoolFC</td>\n",
       "      <td>1723678457</td>\n",
       "      <td>li5nmaf</td>\n",
       "      <td>li5nmaf1723678457</td>\n",
       "      <td>t1_li5nmaf</td>\n",
       "      <td>CIAinformer2</td>\n",
       "      <td>That comment is recovering from a lot of downv...</td>\n",
       "    </tr>\n",
       "  </tbody>\n",
       "</table>\n",
       "</div>"
      ],
      "text/plain": [
       "  sentiment_id upvotes  team_name downvotes             sentiment_score  \\\n",
       "0      neutral       1  liverpool         0  0.911610901355743408203125   \n",
       "1     positive       1  liverpool         0  0.616176903247833251953125   \n",
       "2     positive       1  liverpool         0  0.615728557109832763671875   \n",
       "3      neutral       1  liverpool         0  0.852159082889556884765625   \n",
       "4     negative       1  liverpool         0   0.49875414371490478515625   \n",
       "\n",
       "     subreddit   timestamp       id comment_id_timestamp        name  \\\n",
       "0  LiverpoolFC  1723678134  li5mpvx    li5mpvx1723678134  t1_li5mpvx   \n",
       "1  LiverpoolFC  1723678161  li5msju    li5msju1723678161  t1_li5msju   \n",
       "2  LiverpoolFC  1723678175  li5mtyk    li5mtyk1723678175  t1_li5mtyk   \n",
       "3       soccer  1723678192  li5mvpu    li5mvpu1723678192  t1_li5mvpu   \n",
       "4  LiverpoolFC  1723678457  li5nmaf    li5nmaf1723678457  t1_li5nmaf   \n",
       "\n",
       "         author                                               body  \n",
       "0   themanebeat        Rush played for 6 seasons in the \"prem era\"  \n",
       "1     IggiePopp  Suarez. It wasn't pretty but it was relentless...  \n",
       "2     Vikilinho  Yes! Straight forward answer. We came third la...  \n",
       "3     techaansi                           Saving for what exactly?  \n",
       "4  CIAinformer2  That comment is recovering from a lot of downv...  "
      ]
     },
     "execution_count": 247,
     "metadata": {},
     "output_type": "execute_result"
    }
   ],
   "source": [
    "import pandas as pd\n",
    "\n",
    "df = pd.DataFrame(raw_data)\n",
    "\n",
    "df.head(5)"
   ]
  },
  {
   "cell_type": "code",
   "execution_count": 256,
   "metadata": {},
   "outputs": [
    {
     "data": {
      "text/html": [
       "<div>\n",
       "<style scoped>\n",
       "    .dataframe tbody tr th:only-of-type {\n",
       "        vertical-align: middle;\n",
       "    }\n",
       "\n",
       "    .dataframe tbody tr th {\n",
       "        vertical-align: top;\n",
       "    }\n",
       "\n",
       "    .dataframe thead th {\n",
       "        text-align: right;\n",
       "    }\n",
       "</style>\n",
       "<table border=\"1\" class=\"dataframe\">\n",
       "  <thead>\n",
       "    <tr style=\"text-align: right;\">\n",
       "      <th></th>\n",
       "      <th>sentiment_id</th>\n",
       "      <th>upvotes</th>\n",
       "      <th>team_name</th>\n",
       "      <th>downvotes</th>\n",
       "      <th>sentiment_score</th>\n",
       "      <th>subreddit</th>\n",
       "      <th>timestamp</th>\n",
       "      <th>id</th>\n",
       "      <th>comment_id_timestamp</th>\n",
       "      <th>name</th>\n",
       "      <th>author</th>\n",
       "      <th>body</th>\n",
       "      <th>date</th>\n",
       "    </tr>\n",
       "  </thead>\n",
       "  <tbody>\n",
       "    <tr>\n",
       "      <th>0</th>\n",
       "      <td>neutral</td>\n",
       "      <td>1</td>\n",
       "      <td>liverpool</td>\n",
       "      <td>0</td>\n",
       "      <td>0</td>\n",
       "      <td>LiverpoolFC</td>\n",
       "      <td>1723678134</td>\n",
       "      <td>li5mpvx</td>\n",
       "      <td>li5mpvx1723678134</td>\n",
       "      <td>t1_li5mpvx</td>\n",
       "      <td>themanebeat</td>\n",
       "      <td>Rush played for 6 seasons in the \"prem era\"</td>\n",
       "      <td>2024-08-14 16:28:00</td>\n",
       "    </tr>\n",
       "    <tr>\n",
       "      <th>1</th>\n",
       "      <td>positive</td>\n",
       "      <td>1</td>\n",
       "      <td>liverpool</td>\n",
       "      <td>0</td>\n",
       "      <td>1</td>\n",
       "      <td>LiverpoolFC</td>\n",
       "      <td>1723678161</td>\n",
       "      <td>li5msju</td>\n",
       "      <td>li5msju1723678161</td>\n",
       "      <td>t1_li5msju</td>\n",
       "      <td>IggiePopp</td>\n",
       "      <td>Suarez. It wasn't pretty but it was relentless...</td>\n",
       "      <td>2024-08-14 16:29:00</td>\n",
       "    </tr>\n",
       "    <tr>\n",
       "      <th>2</th>\n",
       "      <td>positive</td>\n",
       "      <td>1</td>\n",
       "      <td>liverpool</td>\n",
       "      <td>0</td>\n",
       "      <td>1</td>\n",
       "      <td>LiverpoolFC</td>\n",
       "      <td>1723678175</td>\n",
       "      <td>li5mtyk</td>\n",
       "      <td>li5mtyk1723678175</td>\n",
       "      <td>t1_li5mtyk</td>\n",
       "      <td>Vikilinho</td>\n",
       "      <td>Yes! Straight forward answer. We came third la...</td>\n",
       "      <td>2024-08-14 16:29:00</td>\n",
       "    </tr>\n",
       "    <tr>\n",
       "      <th>3</th>\n",
       "      <td>neutral</td>\n",
       "      <td>1</td>\n",
       "      <td>liverpool</td>\n",
       "      <td>0</td>\n",
       "      <td>0</td>\n",
       "      <td>soccer</td>\n",
       "      <td>1723678192</td>\n",
       "      <td>li5mvpu</td>\n",
       "      <td>li5mvpu1723678192</td>\n",
       "      <td>t1_li5mvpu</td>\n",
       "      <td>techaansi</td>\n",
       "      <td>Saving for what exactly?</td>\n",
       "      <td>2024-08-14 16:29:00</td>\n",
       "    </tr>\n",
       "    <tr>\n",
       "      <th>4</th>\n",
       "      <td>negative</td>\n",
       "      <td>1</td>\n",
       "      <td>liverpool</td>\n",
       "      <td>0</td>\n",
       "      <td>-1</td>\n",
       "      <td>LiverpoolFC</td>\n",
       "      <td>1723678457</td>\n",
       "      <td>li5nmaf</td>\n",
       "      <td>li5nmaf1723678457</td>\n",
       "      <td>t1_li5nmaf</td>\n",
       "      <td>CIAinformer2</td>\n",
       "      <td>That comment is recovering from a lot of downv...</td>\n",
       "      <td>2024-08-14 16:34:00</td>\n",
       "    </tr>\n",
       "    <tr>\n",
       "      <th>...</th>\n",
       "      <td>...</td>\n",
       "      <td>...</td>\n",
       "      <td>...</td>\n",
       "      <td>...</td>\n",
       "      <td>...</td>\n",
       "      <td>...</td>\n",
       "      <td>...</td>\n",
       "      <td>...</td>\n",
       "      <td>...</td>\n",
       "      <td>...</td>\n",
       "      <td>...</td>\n",
       "      <td>...</td>\n",
       "      <td>...</td>\n",
       "    </tr>\n",
       "    <tr>\n",
       "      <th>360</th>\n",
       "      <td>neutral</td>\n",
       "      <td>1</td>\n",
       "      <td>liverpool</td>\n",
       "      <td>0</td>\n",
       "      <td>0</td>\n",
       "      <td>LiverpoolFC</td>\n",
       "      <td>1723763827</td>\n",
       "      <td>libkaar</td>\n",
       "      <td>libkaar1723763827</td>\n",
       "      <td>t1_libkaar</td>\n",
       "      <td>Specific-Record2866</td>\n",
       "      <td>It’ll be Szobo or Harvey. They’re both fightin...</td>\n",
       "      <td>2024-08-15 16:17:00</td>\n",
       "    </tr>\n",
       "    <tr>\n",
       "      <th>361</th>\n",
       "      <td>negative</td>\n",
       "      <td>1</td>\n",
       "      <td>liverpool</td>\n",
       "      <td>0</td>\n",
       "      <td>-1</td>\n",
       "      <td>LiverpoolFC</td>\n",
       "      <td>1723763830</td>\n",
       "      <td>libkamt</td>\n",
       "      <td>libkamt1723763830</td>\n",
       "      <td>t1_libkamt</td>\n",
       "      <td>WonderfulBlackberry9</td>\n",
       "      <td>Half the sub would like to think otherwise</td>\n",
       "      <td>2024-08-15 16:17:00</td>\n",
       "    </tr>\n",
       "    <tr>\n",
       "      <th>362</th>\n",
       "      <td>neutral</td>\n",
       "      <td>1</td>\n",
       "      <td>liverpool</td>\n",
       "      <td>0</td>\n",
       "      <td>0</td>\n",
       "      <td>LiverpoolFC</td>\n",
       "      <td>1723763836</td>\n",
       "      <td>libkb7a</td>\n",
       "      <td>libkb7a1723763836</td>\n",
       "      <td>t1_libkb7a</td>\n",
       "      <td>LiverpoolFC-ModTeam</td>\n",
       "      <td>Removed: No Reposts and Don't Post Derivatives...</td>\n",
       "      <td>2024-08-15 16:17:00</td>\n",
       "    </tr>\n",
       "    <tr>\n",
       "      <th>363</th>\n",
       "      <td>neutral</td>\n",
       "      <td>1</td>\n",
       "      <td>liverpool</td>\n",
       "      <td>0</td>\n",
       "      <td>0</td>\n",
       "      <td>LiverpoolFC</td>\n",
       "      <td>1723763852</td>\n",
       "      <td>libkcr0</td>\n",
       "      <td>libkcr01723763852</td>\n",
       "      <td>t1_libkcr0</td>\n",
       "      <td>b13_git2</td>\n",
       "      <td>[source ](https://www.instagram.com/reel/C-sx4...</td>\n",
       "      <td>2024-08-15 16:17:00</td>\n",
       "    </tr>\n",
       "    <tr>\n",
       "      <th>364</th>\n",
       "      <td>neutral</td>\n",
       "      <td>1</td>\n",
       "      <td>liverpool</td>\n",
       "      <td>0</td>\n",
       "      <td>0</td>\n",
       "      <td>LiverpoolFC</td>\n",
       "      <td>1723764031</td>\n",
       "      <td>libkubr</td>\n",
       "      <td>libkubr1723764031</td>\n",
       "      <td>t1_libkubr</td>\n",
       "      <td>TroubledMagnet</td>\n",
       "      <td>We'll sign a DM as soon as Hughes has watched ...</td>\n",
       "      <td>2024-08-15 16:20:00</td>\n",
       "    </tr>\n",
       "  </tbody>\n",
       "</table>\n",
       "<p>365 rows × 13 columns</p>\n",
       "</div>"
      ],
      "text/plain": [
       "    sentiment_id upvotes  team_name downvotes  sentiment_score    subreddit  \\\n",
       "0        neutral       1  liverpool         0                0  LiverpoolFC   \n",
       "1       positive       1  liverpool         0                1  LiverpoolFC   \n",
       "2       positive       1  liverpool         0                1  LiverpoolFC   \n",
       "3        neutral       1  liverpool         0                0       soccer   \n",
       "4       negative       1  liverpool         0               -1  LiverpoolFC   \n",
       "..           ...     ...        ...       ...              ...          ...   \n",
       "360      neutral       1  liverpool         0                0  LiverpoolFC   \n",
       "361     negative       1  liverpool         0               -1  LiverpoolFC   \n",
       "362      neutral       1  liverpool         0                0  LiverpoolFC   \n",
       "363      neutral       1  liverpool         0                0  LiverpoolFC   \n",
       "364      neutral       1  liverpool         0                0  LiverpoolFC   \n",
       "\n",
       "      timestamp       id comment_id_timestamp        name  \\\n",
       "0    1723678134  li5mpvx    li5mpvx1723678134  t1_li5mpvx   \n",
       "1    1723678161  li5msju    li5msju1723678161  t1_li5msju   \n",
       "2    1723678175  li5mtyk    li5mtyk1723678175  t1_li5mtyk   \n",
       "3    1723678192  li5mvpu    li5mvpu1723678192  t1_li5mvpu   \n",
       "4    1723678457  li5nmaf    li5nmaf1723678457  t1_li5nmaf   \n",
       "..          ...      ...                  ...         ...   \n",
       "360  1723763827  libkaar    libkaar1723763827  t1_libkaar   \n",
       "361  1723763830  libkamt    libkamt1723763830  t1_libkamt   \n",
       "362  1723763836  libkb7a    libkb7a1723763836  t1_libkb7a   \n",
       "363  1723763852  libkcr0    libkcr01723763852  t1_libkcr0   \n",
       "364  1723764031  libkubr    libkubr1723764031  t1_libkubr   \n",
       "\n",
       "                   author                                               body  \\\n",
       "0             themanebeat        Rush played for 6 seasons in the \"prem era\"   \n",
       "1               IggiePopp  Suarez. It wasn't pretty but it was relentless...   \n",
       "2               Vikilinho  Yes! Straight forward answer. We came third la...   \n",
       "3               techaansi                           Saving for what exactly?   \n",
       "4            CIAinformer2  That comment is recovering from a lot of downv...   \n",
       "..                    ...                                                ...   \n",
       "360   Specific-Record2866  It’ll be Szobo or Harvey. They’re both fightin...   \n",
       "361  WonderfulBlackberry9         Half the sub would like to think otherwise   \n",
       "362   LiverpoolFC-ModTeam  Removed: No Reposts and Don't Post Derivatives...   \n",
       "363              b13_git2  [source ](https://www.instagram.com/reel/C-sx4...   \n",
       "364        TroubledMagnet  We'll sign a DM as soon as Hughes has watched ...   \n",
       "\n",
       "                   date  \n",
       "0   2024-08-14 16:28:00  \n",
       "1   2024-08-14 16:29:00  \n",
       "2   2024-08-14 16:29:00  \n",
       "3   2024-08-14 16:29:00  \n",
       "4   2024-08-14 16:34:00  \n",
       "..                  ...  \n",
       "360 2024-08-15 16:17:00  \n",
       "361 2024-08-15 16:17:00  \n",
       "362 2024-08-15 16:17:00  \n",
       "363 2024-08-15 16:17:00  \n",
       "364 2024-08-15 16:20:00  \n",
       "\n",
       "[365 rows x 13 columns]"
      ]
     },
     "execution_count": 256,
     "metadata": {},
     "output_type": "execute_result"
    }
   ],
   "source": [
    "import datetime\n",
    "\n",
    "df['date'] = (pd.to_datetime(df['timestamp'].astype(int), unit='s').dt.tz_localize('UTC')\n",
    "                      .dt.tz_convert('US/Pacific').dt.floor('Min').dt.tz_localize(None))\n",
    "\n",
    "df_count = (df.groupby(['date', 'sentiment_id'], as_index=False)['id'].count()\n",
    "            .rename(columns={'id': 'count'}))\n",
    "\n",
    "df"
   ]
  },
  {
   "cell_type": "code",
   "execution_count": 257,
   "metadata": {},
   "outputs": [],
   "source": [
    "df_prop = df.groupby('date', as_index=False)['sentiment_id'].value_counts(normalize=True)"
   ]
  },
  {
   "cell_type": "markdown",
   "metadata": {},
   "source": [
    "Line plot"
   ]
  },
  {
   "cell_type": "code",
   "execution_count": 258,
   "metadata": {},
   "outputs": [
    {
     "data": {
      "application/vnd.plotly.v1+json": {
       "config": {
        "plotlyServerURL": "https://plot.ly"
       },
       "data": [
        {
         "hovertemplate": "sentiment_id=neutral<br>date=%{x}<br>count=%{y}<extra></extra>",
         "legendgroup": "neutral",
         "line": {
          "color": "grey",
          "dash": "solid"
         },
         "marker": {
          "symbol": "circle"
         },
         "mode": "lines",
         "name": "neutral",
         "orientation": "v",
         "showlegend": true,
         "type": "scatter",
         "x": [
          "2024-08-14T16:28:00",
          "2024-08-14T16:29:00",
          "2024-08-14T16:36:00",
          "2024-08-14T16:39:00",
          "2024-08-14T16:40:00",
          "2024-08-14T16:42:00",
          "2024-08-14T16:46:00",
          "2024-08-14T16:50:00",
          "2024-08-14T16:53:00",
          "2024-08-14T16:58:00",
          "2024-08-14T17:03:00",
          "2024-08-15T11:55:00",
          "2024-08-15T11:56:00",
          "2024-08-15T11:58:00",
          "2024-08-15T11:59:00",
          "2024-08-15T12:00:00",
          "2024-08-15T12:01:00",
          "2024-08-15T12:03:00",
          "2024-08-15T12:04:00",
          "2024-08-15T12:05:00",
          "2024-08-15T12:06:00",
          "2024-08-15T12:07:00",
          "2024-08-15T12:08:00",
          "2024-08-15T12:10:00",
          "2024-08-15T12:11:00",
          "2024-08-15T12:13:00",
          "2024-08-15T12:14:00",
          "2024-08-15T12:16:00",
          "2024-08-15T12:19:00",
          "2024-08-15T12:22:00",
          "2024-08-15T12:23:00",
          "2024-08-15T12:24:00",
          "2024-08-15T12:25:00",
          "2024-08-15T12:26:00",
          "2024-08-15T12:27:00",
          "2024-08-15T12:28:00",
          "2024-08-15T12:29:00",
          "2024-08-15T12:30:00",
          "2024-08-15T12:31:00",
          "2024-08-15T12:32:00",
          "2024-08-15T12:33:00",
          "2024-08-15T12:36:00",
          "2024-08-15T12:37:00",
          "2024-08-15T12:38:00",
          "2024-08-15T12:39:00",
          "2024-08-15T12:40:00",
          "2024-08-15T12:41:00",
          "2024-08-15T12:42:00",
          "2024-08-15T12:43:00",
          "2024-08-15T12:44:00",
          "2024-08-15T12:45:00",
          "2024-08-15T12:47:00",
          "2024-08-15T12:48:00",
          "2024-08-15T13:02:00",
          "2024-08-15T13:05:00",
          "2024-08-15T13:06:00",
          "2024-08-15T13:07:00",
          "2024-08-15T13:09:00",
          "2024-08-15T13:10:00",
          "2024-08-15T13:11:00",
          "2024-08-15T13:13:00",
          "2024-08-15T13:15:00",
          "2024-08-15T13:16:00",
          "2024-08-15T13:17:00",
          "2024-08-15T13:19:00",
          "2024-08-15T13:20:00",
          "2024-08-15T13:21:00",
          "2024-08-15T13:22:00",
          "2024-08-15T13:23:00",
          "2024-08-15T13:24:00",
          "2024-08-15T13:25:00",
          "2024-08-15T13:27:00",
          "2024-08-15T13:28:00",
          "2024-08-15T13:29:00",
          "2024-08-15T13:30:00",
          "2024-08-15T13:31:00",
          "2024-08-15T13:33:00",
          "2024-08-15T13:35:00",
          "2024-08-15T13:36:00",
          "2024-08-15T13:38:00",
          "2024-08-15T13:41:00",
          "2024-08-15T13:43:00",
          "2024-08-15T13:44:00",
          "2024-08-15T13:45:00",
          "2024-08-15T13:46:00",
          "2024-08-15T13:47:00",
          "2024-08-15T13:50:00",
          "2024-08-15T13:51:00",
          "2024-08-15T14:03:00",
          "2024-08-15T14:05:00",
          "2024-08-15T14:07:00",
          "2024-08-15T14:13:00",
          "2024-08-15T14:14:00",
          "2024-08-15T15:23:00",
          "2024-08-15T15:24:00",
          "2024-08-15T15:25:00",
          "2024-08-15T15:31:00",
          "2024-08-15T15:33:00",
          "2024-08-15T15:37:00",
          "2024-08-15T15:40:00",
          "2024-08-15T15:42:00",
          "2024-08-15T15:46:00",
          "2024-08-15T15:50:00",
          "2024-08-15T15:51:00",
          "2024-08-15T15:52:00",
          "2024-08-15T15:54:00",
          "2024-08-15T15:55:00",
          "2024-08-15T16:00:00",
          "2024-08-15T16:02:00",
          "2024-08-15T16:03:00",
          "2024-08-15T16:04:00",
          "2024-08-15T16:05:00",
          "2024-08-15T16:06:00",
          "2024-08-15T16:09:00",
          "2024-08-15T16:10:00",
          "2024-08-15T16:15:00",
          "2024-08-15T16:17:00",
          "2024-08-15T16:20:00"
         ],
         "xaxis": "x",
         "y": [
          1,
          1,
          1,
          1,
          1,
          1,
          2,
          2,
          1,
          1,
          2,
          1,
          3,
          1,
          1,
          1,
          1,
          1,
          2,
          1,
          2,
          5,
          1,
          1,
          1,
          1,
          1,
          2,
          1,
          2,
          1,
          1,
          1,
          1,
          1,
          1,
          1,
          1,
          1,
          2,
          2,
          1,
          3,
          2,
          2,
          2,
          3,
          3,
          1,
          1,
          2,
          1,
          2,
          1,
          2,
          1,
          1,
          1,
          1,
          1,
          1,
          3,
          3,
          1,
          1,
          1,
          1,
          2,
          1,
          1,
          1,
          2,
          4,
          3,
          3,
          2,
          1,
          2,
          1,
          1,
          1,
          3,
          2,
          2,
          2,
          1,
          1,
          2,
          1,
          1,
          2,
          1,
          2,
          1,
          1,
          1,
          1,
          2,
          1,
          1,
          2,
          2,
          1,
          1,
          2,
          1,
          1,
          1,
          1,
          1,
          1,
          2,
          2,
          2,
          1,
          1,
          3,
          1
         ],
         "yaxis": "y"
        },
        {
         "hovertemplate": "sentiment_id=positive<br>date=%{x}<br>count=%{y}<extra></extra>",
         "legendgroup": "positive",
         "line": {
          "color": "red",
          "dash": "solid"
         },
         "marker": {
          "symbol": "circle"
         },
         "mode": "lines",
         "name": "positive",
         "orientation": "v",
         "showlegend": true,
         "type": "scatter",
         "x": [
          "2024-08-14T16:29:00",
          "2024-08-14T16:38:00",
          "2024-08-14T16:39:00",
          "2024-08-14T16:40:00",
          "2024-08-14T16:42:00",
          "2024-08-14T16:44:00",
          "2024-08-15T11:57:00",
          "2024-08-15T12:02:00",
          "2024-08-15T12:04:00",
          "2024-08-15T12:05:00",
          "2024-08-15T12:06:00",
          "2024-08-15T12:07:00",
          "2024-08-15T12:08:00",
          "2024-08-15T12:14:00",
          "2024-08-15T12:17:00",
          "2024-08-15T12:21:00",
          "2024-08-15T12:24:00",
          "2024-08-15T12:25:00",
          "2024-08-15T12:26:00",
          "2024-08-15T12:28:00",
          "2024-08-15T12:30:00",
          "2024-08-15T12:32:00",
          "2024-08-15T12:34:00",
          "2024-08-15T12:35:00",
          "2024-08-15T12:37:00",
          "2024-08-15T12:38:00",
          "2024-08-15T12:45:00",
          "2024-08-15T13:01:00",
          "2024-08-15T13:05:00",
          "2024-08-15T13:10:00",
          "2024-08-15T13:11:00",
          "2024-08-15T13:14:00",
          "2024-08-15T13:16:00",
          "2024-08-15T13:17:00",
          "2024-08-15T13:21:00",
          "2024-08-15T13:23:00",
          "2024-08-15T13:24:00",
          "2024-08-15T13:26:00",
          "2024-08-15T13:27:00",
          "2024-08-15T13:28:00",
          "2024-08-15T13:29:00",
          "2024-08-15T13:38:00",
          "2024-08-15T13:51:00",
          "2024-08-15T13:56:00",
          "2024-08-15T13:58:00",
          "2024-08-15T14:00:00",
          "2024-08-15T14:04:00",
          "2024-08-15T14:08:00",
          "2024-08-15T15:19:00",
          "2024-08-15T15:20:00",
          "2024-08-15T15:24:00",
          "2024-08-15T15:30:00",
          "2024-08-15T15:36:00",
          "2024-08-15T15:39:00",
          "2024-08-15T15:46:00",
          "2024-08-15T15:50:00",
          "2024-08-15T16:02:00",
          "2024-08-15T16:10:00",
          "2024-08-15T16:13:00"
         ],
         "xaxis": "x",
         "y": [
          2,
          1,
          1,
          1,
          1,
          1,
          1,
          1,
          1,
          1,
          1,
          1,
          1,
          1,
          1,
          1,
          1,
          1,
          3,
          1,
          1,
          1,
          2,
          2,
          1,
          1,
          1,
          1,
          2,
          1,
          1,
          1,
          2,
          1,
          1,
          1,
          2,
          1,
          1,
          1,
          1,
          3,
          1,
          1,
          1,
          1,
          1,
          1,
          1,
          1,
          1,
          1,
          1,
          2,
          1,
          1,
          1,
          2,
          1
         ],
         "yaxis": "y"
        },
        {
         "hovertemplate": "sentiment_id=negative<br>date=%{x}<br>count=%{y}<extra></extra>",
         "legendgroup": "negative",
         "line": {
          "color": "blue",
          "dash": "solid"
         },
         "marker": {
          "symbol": "circle"
         },
         "mode": "lines",
         "name": "negative",
         "orientation": "v",
         "showlegend": true,
         "type": "scatter",
         "x": [
          "2024-08-14T16:34:00",
          "2024-08-14T16:35:00",
          "2024-08-14T16:36:00",
          "2024-08-14T16:38:00",
          "2024-08-14T16:39:00",
          "2024-08-14T16:45:00",
          "2024-08-14T16:46:00",
          "2024-08-14T16:54:00",
          "2024-08-14T16:55:00",
          "2024-08-14T17:00:00",
          "2024-08-14T17:03:00",
          "2024-08-15T11:57:00",
          "2024-08-15T11:58:00",
          "2024-08-15T12:03:00",
          "2024-08-15T12:04:00",
          "2024-08-15T12:05:00",
          "2024-08-15T12:12:00",
          "2024-08-15T12:13:00",
          "2024-08-15T12:15:00",
          "2024-08-15T12:16:00",
          "2024-08-15T12:17:00",
          "2024-08-15T12:21:00",
          "2024-08-15T12:24:00",
          "2024-08-15T12:25:00",
          "2024-08-15T12:29:00",
          "2024-08-15T12:30:00",
          "2024-08-15T12:34:00",
          "2024-08-15T12:35:00",
          "2024-08-15T12:36:00",
          "2024-08-15T12:38:00",
          "2024-08-15T12:40:00",
          "2024-08-15T12:42:00",
          "2024-08-15T12:44:00",
          "2024-08-15T12:46:00",
          "2024-08-15T12:47:00",
          "2024-08-15T12:48:00",
          "2024-08-15T13:07:00",
          "2024-08-15T13:08:00",
          "2024-08-15T13:11:00",
          "2024-08-15T13:12:00",
          "2024-08-15T13:15:00",
          "2024-08-15T13:17:00",
          "2024-08-15T13:18:00",
          "2024-08-15T13:19:00",
          "2024-08-15T13:22:00",
          "2024-08-15T13:25:00",
          "2024-08-15T13:26:00",
          "2024-08-15T13:27:00",
          "2024-08-15T13:29:00",
          "2024-08-15T13:31:00",
          "2024-08-15T13:33:00",
          "2024-08-15T13:34:00",
          "2024-08-15T13:36:00",
          "2024-08-15T13:38:00",
          "2024-08-15T13:39:00",
          "2024-08-15T13:40:00",
          "2024-08-15T13:41:00",
          "2024-08-15T13:46:00",
          "2024-08-15T13:47:00",
          "2024-08-15T13:51:00",
          "2024-08-15T13:56:00",
          "2024-08-15T13:59:00",
          "2024-08-15T14:02:00",
          "2024-08-15T14:03:00",
          "2024-08-15T14:05:00",
          "2024-08-15T14:09:00",
          "2024-08-15T15:18:00",
          "2024-08-15T15:20:00",
          "2024-08-15T15:22:00",
          "2024-08-15T15:23:00",
          "2024-08-15T15:24:00",
          "2024-08-15T15:26:00",
          "2024-08-15T15:34:00",
          "2024-08-15T15:45:00",
          "2024-08-15T15:49:00",
          "2024-08-15T15:52:00",
          "2024-08-15T15:54:00",
          "2024-08-15T15:59:00",
          "2024-08-15T16:02:00",
          "2024-08-15T16:06:00",
          "2024-08-15T16:08:00",
          "2024-08-15T16:17:00"
         ],
         "xaxis": "x",
         "y": [
          2,
          3,
          2,
          1,
          1,
          1,
          1,
          1,
          2,
          1,
          1,
          1,
          1,
          1,
          2,
          1,
          2,
          1,
          1,
          3,
          1,
          1,
          3,
          1,
          2,
          2,
          1,
          1,
          2,
          1,
          1,
          1,
          3,
          2,
          1,
          4,
          1,
          1,
          1,
          1,
          1,
          1,
          2,
          1,
          2,
          3,
          2,
          1,
          1,
          2,
          1,
          1,
          1,
          1,
          2,
          2,
          1,
          4,
          1,
          1,
          1,
          1,
          1,
          1,
          2,
          1,
          2,
          1,
          2,
          1,
          1,
          1,
          1,
          1,
          1,
          1,
          1,
          1,
          1,
          2,
          1,
          1
         ],
         "yaxis": "y"
        }
       ],
       "layout": {
        "legend": {
         "title": {
          "text": "sentiment_id"
         },
         "tracegroupgap": 0
        },
        "margin": {
         "t": 60
        },
        "template": {
         "data": {
          "bar": [
           {
            "error_x": {
             "color": "rgb(36,36,36)"
            },
            "error_y": {
             "color": "rgb(36,36,36)"
            },
            "marker": {
             "line": {
              "color": "white",
              "width": 0.5
             },
             "pattern": {
              "fillmode": "overlay",
              "size": 10,
              "solidity": 0.2
             }
            },
            "type": "bar"
           }
          ],
          "barpolar": [
           {
            "marker": {
             "line": {
              "color": "white",
              "width": 0.5
             },
             "pattern": {
              "fillmode": "overlay",
              "size": 10,
              "solidity": 0.2
             }
            },
            "type": "barpolar"
           }
          ],
          "carpet": [
           {
            "aaxis": {
             "endlinecolor": "rgb(36,36,36)",
             "gridcolor": "white",
             "linecolor": "white",
             "minorgridcolor": "white",
             "startlinecolor": "rgb(36,36,36)"
            },
            "baxis": {
             "endlinecolor": "rgb(36,36,36)",
             "gridcolor": "white",
             "linecolor": "white",
             "minorgridcolor": "white",
             "startlinecolor": "rgb(36,36,36)"
            },
            "type": "carpet"
           }
          ],
          "choropleth": [
           {
            "colorbar": {
             "outlinewidth": 1,
             "tickcolor": "rgb(36,36,36)",
             "ticks": "outside"
            },
            "type": "choropleth"
           }
          ],
          "contour": [
           {
            "colorbar": {
             "outlinewidth": 1,
             "tickcolor": "rgb(36,36,36)",
             "ticks": "outside"
            },
            "colorscale": [
             [
              0,
              "#440154"
             ],
             [
              0.1111111111111111,
              "#482878"
             ],
             [
              0.2222222222222222,
              "#3e4989"
             ],
             [
              0.3333333333333333,
              "#31688e"
             ],
             [
              0.4444444444444444,
              "#26828e"
             ],
             [
              0.5555555555555556,
              "#1f9e89"
             ],
             [
              0.6666666666666666,
              "#35b779"
             ],
             [
              0.7777777777777778,
              "#6ece58"
             ],
             [
              0.8888888888888888,
              "#b5de2b"
             ],
             [
              1,
              "#fde725"
             ]
            ],
            "type": "contour"
           }
          ],
          "contourcarpet": [
           {
            "colorbar": {
             "outlinewidth": 1,
             "tickcolor": "rgb(36,36,36)",
             "ticks": "outside"
            },
            "type": "contourcarpet"
           }
          ],
          "heatmap": [
           {
            "colorbar": {
             "outlinewidth": 1,
             "tickcolor": "rgb(36,36,36)",
             "ticks": "outside"
            },
            "colorscale": [
             [
              0,
              "#440154"
             ],
             [
              0.1111111111111111,
              "#482878"
             ],
             [
              0.2222222222222222,
              "#3e4989"
             ],
             [
              0.3333333333333333,
              "#31688e"
             ],
             [
              0.4444444444444444,
              "#26828e"
             ],
             [
              0.5555555555555556,
              "#1f9e89"
             ],
             [
              0.6666666666666666,
              "#35b779"
             ],
             [
              0.7777777777777778,
              "#6ece58"
             ],
             [
              0.8888888888888888,
              "#b5de2b"
             ],
             [
              1,
              "#fde725"
             ]
            ],
            "type": "heatmap"
           }
          ],
          "heatmapgl": [
           {
            "colorbar": {
             "outlinewidth": 1,
             "tickcolor": "rgb(36,36,36)",
             "ticks": "outside"
            },
            "colorscale": [
             [
              0,
              "#440154"
             ],
             [
              0.1111111111111111,
              "#482878"
             ],
             [
              0.2222222222222222,
              "#3e4989"
             ],
             [
              0.3333333333333333,
              "#31688e"
             ],
             [
              0.4444444444444444,
              "#26828e"
             ],
             [
              0.5555555555555556,
              "#1f9e89"
             ],
             [
              0.6666666666666666,
              "#35b779"
             ],
             [
              0.7777777777777778,
              "#6ece58"
             ],
             [
              0.8888888888888888,
              "#b5de2b"
             ],
             [
              1,
              "#fde725"
             ]
            ],
            "type": "heatmapgl"
           }
          ],
          "histogram": [
           {
            "marker": {
             "line": {
              "color": "white",
              "width": 0.6
             }
            },
            "type": "histogram"
           }
          ],
          "histogram2d": [
           {
            "colorbar": {
             "outlinewidth": 1,
             "tickcolor": "rgb(36,36,36)",
             "ticks": "outside"
            },
            "colorscale": [
             [
              0,
              "#440154"
             ],
             [
              0.1111111111111111,
              "#482878"
             ],
             [
              0.2222222222222222,
              "#3e4989"
             ],
             [
              0.3333333333333333,
              "#31688e"
             ],
             [
              0.4444444444444444,
              "#26828e"
             ],
             [
              0.5555555555555556,
              "#1f9e89"
             ],
             [
              0.6666666666666666,
              "#35b779"
             ],
             [
              0.7777777777777778,
              "#6ece58"
             ],
             [
              0.8888888888888888,
              "#b5de2b"
             ],
             [
              1,
              "#fde725"
             ]
            ],
            "type": "histogram2d"
           }
          ],
          "histogram2dcontour": [
           {
            "colorbar": {
             "outlinewidth": 1,
             "tickcolor": "rgb(36,36,36)",
             "ticks": "outside"
            },
            "colorscale": [
             [
              0,
              "#440154"
             ],
             [
              0.1111111111111111,
              "#482878"
             ],
             [
              0.2222222222222222,
              "#3e4989"
             ],
             [
              0.3333333333333333,
              "#31688e"
             ],
             [
              0.4444444444444444,
              "#26828e"
             ],
             [
              0.5555555555555556,
              "#1f9e89"
             ],
             [
              0.6666666666666666,
              "#35b779"
             ],
             [
              0.7777777777777778,
              "#6ece58"
             ],
             [
              0.8888888888888888,
              "#b5de2b"
             ],
             [
              1,
              "#fde725"
             ]
            ],
            "type": "histogram2dcontour"
           }
          ],
          "mesh3d": [
           {
            "colorbar": {
             "outlinewidth": 1,
             "tickcolor": "rgb(36,36,36)",
             "ticks": "outside"
            },
            "type": "mesh3d"
           }
          ],
          "parcoords": [
           {
            "line": {
             "colorbar": {
              "outlinewidth": 1,
              "tickcolor": "rgb(36,36,36)",
              "ticks": "outside"
             }
            },
            "type": "parcoords"
           }
          ],
          "pie": [
           {
            "automargin": true,
            "type": "pie"
           }
          ],
          "scatter": [
           {
            "fillpattern": {
             "fillmode": "overlay",
             "size": 10,
             "solidity": 0.2
            },
            "type": "scatter"
           }
          ],
          "scatter3d": [
           {
            "line": {
             "colorbar": {
              "outlinewidth": 1,
              "tickcolor": "rgb(36,36,36)",
              "ticks": "outside"
             }
            },
            "marker": {
             "colorbar": {
              "outlinewidth": 1,
              "tickcolor": "rgb(36,36,36)",
              "ticks": "outside"
             }
            },
            "type": "scatter3d"
           }
          ],
          "scattercarpet": [
           {
            "marker": {
             "colorbar": {
              "outlinewidth": 1,
              "tickcolor": "rgb(36,36,36)",
              "ticks": "outside"
             }
            },
            "type": "scattercarpet"
           }
          ],
          "scattergeo": [
           {
            "marker": {
             "colorbar": {
              "outlinewidth": 1,
              "tickcolor": "rgb(36,36,36)",
              "ticks": "outside"
             }
            },
            "type": "scattergeo"
           }
          ],
          "scattergl": [
           {
            "marker": {
             "colorbar": {
              "outlinewidth": 1,
              "tickcolor": "rgb(36,36,36)",
              "ticks": "outside"
             }
            },
            "type": "scattergl"
           }
          ],
          "scattermapbox": [
           {
            "marker": {
             "colorbar": {
              "outlinewidth": 1,
              "tickcolor": "rgb(36,36,36)",
              "ticks": "outside"
             }
            },
            "type": "scattermapbox"
           }
          ],
          "scatterpolar": [
           {
            "marker": {
             "colorbar": {
              "outlinewidth": 1,
              "tickcolor": "rgb(36,36,36)",
              "ticks": "outside"
             }
            },
            "type": "scatterpolar"
           }
          ],
          "scatterpolargl": [
           {
            "marker": {
             "colorbar": {
              "outlinewidth": 1,
              "tickcolor": "rgb(36,36,36)",
              "ticks": "outside"
             }
            },
            "type": "scatterpolargl"
           }
          ],
          "scatterternary": [
           {
            "marker": {
             "colorbar": {
              "outlinewidth": 1,
              "tickcolor": "rgb(36,36,36)",
              "ticks": "outside"
             }
            },
            "type": "scatterternary"
           }
          ],
          "surface": [
           {
            "colorbar": {
             "outlinewidth": 1,
             "tickcolor": "rgb(36,36,36)",
             "ticks": "outside"
            },
            "colorscale": [
             [
              0,
              "#440154"
             ],
             [
              0.1111111111111111,
              "#482878"
             ],
             [
              0.2222222222222222,
              "#3e4989"
             ],
             [
              0.3333333333333333,
              "#31688e"
             ],
             [
              0.4444444444444444,
              "#26828e"
             ],
             [
              0.5555555555555556,
              "#1f9e89"
             ],
             [
              0.6666666666666666,
              "#35b779"
             ],
             [
              0.7777777777777778,
              "#6ece58"
             ],
             [
              0.8888888888888888,
              "#b5de2b"
             ],
             [
              1,
              "#fde725"
             ]
            ],
            "type": "surface"
           }
          ],
          "table": [
           {
            "cells": {
             "fill": {
              "color": "rgb(237,237,237)"
             },
             "line": {
              "color": "white"
             }
            },
            "header": {
             "fill": {
              "color": "rgb(217,217,217)"
             },
             "line": {
              "color": "white"
             }
            },
            "type": "table"
           }
          ]
         },
         "layout": {
          "annotationdefaults": {
           "arrowhead": 0,
           "arrowwidth": 1
          },
          "autotypenumbers": "strict",
          "coloraxis": {
           "colorbar": {
            "outlinewidth": 1,
            "tickcolor": "rgb(36,36,36)",
            "ticks": "outside"
           }
          },
          "colorscale": {
           "diverging": [
            [
             0,
             "rgb(103,0,31)"
            ],
            [
             0.1,
             "rgb(178,24,43)"
            ],
            [
             0.2,
             "rgb(214,96,77)"
            ],
            [
             0.3,
             "rgb(244,165,130)"
            ],
            [
             0.4,
             "rgb(253,219,199)"
            ],
            [
             0.5,
             "rgb(247,247,247)"
            ],
            [
             0.6,
             "rgb(209,229,240)"
            ],
            [
             0.7,
             "rgb(146,197,222)"
            ],
            [
             0.8,
             "rgb(67,147,195)"
            ],
            [
             0.9,
             "rgb(33,102,172)"
            ],
            [
             1,
             "rgb(5,48,97)"
            ]
           ],
           "sequential": [
            [
             0,
             "#440154"
            ],
            [
             0.1111111111111111,
             "#482878"
            ],
            [
             0.2222222222222222,
             "#3e4989"
            ],
            [
             0.3333333333333333,
             "#31688e"
            ],
            [
             0.4444444444444444,
             "#26828e"
            ],
            [
             0.5555555555555556,
             "#1f9e89"
            ],
            [
             0.6666666666666666,
             "#35b779"
            ],
            [
             0.7777777777777778,
             "#6ece58"
            ],
            [
             0.8888888888888888,
             "#b5de2b"
            ],
            [
             1,
             "#fde725"
            ]
           ],
           "sequentialminus": [
            [
             0,
             "#440154"
            ],
            [
             0.1111111111111111,
             "#482878"
            ],
            [
             0.2222222222222222,
             "#3e4989"
            ],
            [
             0.3333333333333333,
             "#31688e"
            ],
            [
             0.4444444444444444,
             "#26828e"
            ],
            [
             0.5555555555555556,
             "#1f9e89"
            ],
            [
             0.6666666666666666,
             "#35b779"
            ],
            [
             0.7777777777777778,
             "#6ece58"
            ],
            [
             0.8888888888888888,
             "#b5de2b"
            ],
            [
             1,
             "#fde725"
            ]
           ]
          },
          "colorway": [
           "#1F77B4",
           "#FF7F0E",
           "#2CA02C",
           "#D62728",
           "#9467BD",
           "#8C564B",
           "#E377C2",
           "#7F7F7F",
           "#BCBD22",
           "#17BECF"
          ],
          "font": {
           "color": "rgb(36,36,36)"
          },
          "geo": {
           "bgcolor": "white",
           "lakecolor": "white",
           "landcolor": "white",
           "showlakes": true,
           "showland": true,
           "subunitcolor": "white"
          },
          "hoverlabel": {
           "align": "left"
          },
          "hovermode": "closest",
          "mapbox": {
           "style": "light"
          },
          "paper_bgcolor": "white",
          "plot_bgcolor": "white",
          "polar": {
           "angularaxis": {
            "gridcolor": "rgb(232,232,232)",
            "linecolor": "rgb(36,36,36)",
            "showgrid": false,
            "showline": true,
            "ticks": "outside"
           },
           "bgcolor": "white",
           "radialaxis": {
            "gridcolor": "rgb(232,232,232)",
            "linecolor": "rgb(36,36,36)",
            "showgrid": false,
            "showline": true,
            "ticks": "outside"
           }
          },
          "scene": {
           "xaxis": {
            "backgroundcolor": "white",
            "gridcolor": "rgb(232,232,232)",
            "gridwidth": 2,
            "linecolor": "rgb(36,36,36)",
            "showbackground": true,
            "showgrid": false,
            "showline": true,
            "ticks": "outside",
            "zeroline": false,
            "zerolinecolor": "rgb(36,36,36)"
           },
           "yaxis": {
            "backgroundcolor": "white",
            "gridcolor": "rgb(232,232,232)",
            "gridwidth": 2,
            "linecolor": "rgb(36,36,36)",
            "showbackground": true,
            "showgrid": false,
            "showline": true,
            "ticks": "outside",
            "zeroline": false,
            "zerolinecolor": "rgb(36,36,36)"
           },
           "zaxis": {
            "backgroundcolor": "white",
            "gridcolor": "rgb(232,232,232)",
            "gridwidth": 2,
            "linecolor": "rgb(36,36,36)",
            "showbackground": true,
            "showgrid": false,
            "showline": true,
            "ticks": "outside",
            "zeroline": false,
            "zerolinecolor": "rgb(36,36,36)"
           }
          },
          "shapedefaults": {
           "fillcolor": "black",
           "line": {
            "width": 0
           },
           "opacity": 0.3
          },
          "ternary": {
           "aaxis": {
            "gridcolor": "rgb(232,232,232)",
            "linecolor": "rgb(36,36,36)",
            "showgrid": false,
            "showline": true,
            "ticks": "outside"
           },
           "baxis": {
            "gridcolor": "rgb(232,232,232)",
            "linecolor": "rgb(36,36,36)",
            "showgrid": false,
            "showline": true,
            "ticks": "outside"
           },
           "bgcolor": "white",
           "caxis": {
            "gridcolor": "rgb(232,232,232)",
            "linecolor": "rgb(36,36,36)",
            "showgrid": false,
            "showline": true,
            "ticks": "outside"
           }
          },
          "title": {
           "x": 0.05
          },
          "xaxis": {
           "automargin": true,
           "gridcolor": "rgb(232,232,232)",
           "linecolor": "rgb(36,36,36)",
           "showgrid": false,
           "showline": true,
           "ticks": "outside",
           "title": {
            "standoff": 15
           },
           "zeroline": false,
           "zerolinecolor": "rgb(36,36,36)"
          },
          "yaxis": {
           "automargin": true,
           "gridcolor": "rgb(232,232,232)",
           "linecolor": "rgb(36,36,36)",
           "showgrid": false,
           "showline": true,
           "ticks": "outside",
           "title": {
            "standoff": 15
           },
           "zeroline": false,
           "zerolinecolor": "rgb(36,36,36)"
          }
         }
        },
        "xaxis": {
         "anchor": "y",
         "domain": [
          0,
          1
         ],
         "title": {
          "text": "date"
         }
        },
        "yaxis": {
         "anchor": "x",
         "domain": [
          0,
          1
         ],
         "title": {
          "text": "count"
         }
        }
       }
      }
     },
     "metadata": {},
     "output_type": "display_data"
    }
   ],
   "source": [
    "import plotly.express as px\n",
    "\n",
    "fig = px.line(df_count,\n",
    "                  x='date',\n",
    "                  y='count',\n",
    "                  color='sentiment_id',\n",
    "                  template='simple_white',\n",
    "                  color_discrete_map={'positive': 'red',\n",
    "                                      'neutral': 'grey',\n",
    "                                      'negative': 'blue'})\n",
    "\n",
    "fig.show()"
   ]
  },
  {
   "cell_type": "markdown",
   "metadata": {},
   "source": [
    "Pie chart:"
   ]
  },
  {
   "cell_type": "code",
   "execution_count": 259,
   "metadata": {},
   "outputs": [
    {
     "data": {
      "text/html": [
       "<div>\n",
       "<style scoped>\n",
       "    .dataframe tbody tr th:only-of-type {\n",
       "        vertical-align: middle;\n",
       "    }\n",
       "\n",
       "    .dataframe tbody tr th {\n",
       "        vertical-align: top;\n",
       "    }\n",
       "\n",
       "    .dataframe thead th {\n",
       "        text-align: right;\n",
       "    }\n",
       "</style>\n",
       "<table border=\"1\" class=\"dataframe\">\n",
       "  <thead>\n",
       "    <tr style=\"text-align: right;\">\n",
       "      <th></th>\n",
       "      <th>sentiment_id</th>\n",
       "      <th>proportion</th>\n",
       "    </tr>\n",
       "  </thead>\n",
       "  <tbody>\n",
       "    <tr>\n",
       "      <th>0</th>\n",
       "      <td>neutral</td>\n",
       "      <td>0.484932</td>\n",
       "    </tr>\n",
       "    <tr>\n",
       "      <th>1</th>\n",
       "      <td>negative</td>\n",
       "      <td>0.320548</td>\n",
       "    </tr>\n",
       "    <tr>\n",
       "      <th>2</th>\n",
       "      <td>positive</td>\n",
       "      <td>0.194521</td>\n",
       "    </tr>\n",
       "  </tbody>\n",
       "</table>\n",
       "</div>"
      ],
      "text/plain": [
       "  sentiment_id  proportion\n",
       "0      neutral    0.484932\n",
       "1     negative    0.320548\n",
       "2     positive    0.194521"
      ]
     },
     "execution_count": 259,
     "metadata": {},
     "output_type": "execute_result"
    }
   ],
   "source": [
    "df_pie = pd.DataFrame(df['sentiment_id'].value_counts(normalize=True)).reset_index()\n",
    "\n",
    "df_pie"
   ]
  },
  {
   "cell_type": "code",
   "execution_count": 267,
   "metadata": {},
   "outputs": [
    {
     "data": {
      "application/vnd.plotly.v1+json": {
       "config": {
        "plotlyServerURL": "https://plot.ly"
       },
       "data": [
        {
         "customdata": [
          [
           "neutral"
          ],
          [
           "negative"
          ],
          [
           "positive"
          ]
         ],
         "domain": {
          "x": [
           0,
           1
          ],
          "y": [
           0,
           1
          ]
         },
         "hovertemplate": "sentiment_id=%{customdata[0]}<br>proportion=%{value}<extra></extra>",
         "labels": [
          "neutral",
          "negative",
          "positive"
         ],
         "legendgroup": "",
         "marker": {
          "colors": [
           "#7f7f7f",
           "#d62728",
           "#2ca02c"
          ]
         },
         "name": "",
         "showlegend": true,
         "textinfo": "percent+label",
         "textposition": "inside",
         "type": "pie",
         "values": [
          0.4849315068493151,
          0.32054794520547947,
          0.19452054794520549
         ]
        }
       ],
       "layout": {
        "legend": {
         "tracegroupgap": 0
        },
        "margin": {
         "t": 60
        },
        "showlegend": false,
        "template": {
         "data": {
          "bar": [
           {
            "error_x": {
             "color": "rgb(36,36,36)"
            },
            "error_y": {
             "color": "rgb(36,36,36)"
            },
            "marker": {
             "line": {
              "color": "white",
              "width": 0.5
             },
             "pattern": {
              "fillmode": "overlay",
              "size": 10,
              "solidity": 0.2
             }
            },
            "type": "bar"
           }
          ],
          "barpolar": [
           {
            "marker": {
             "line": {
              "color": "white",
              "width": 0.5
             },
             "pattern": {
              "fillmode": "overlay",
              "size": 10,
              "solidity": 0.2
             }
            },
            "type": "barpolar"
           }
          ],
          "carpet": [
           {
            "aaxis": {
             "endlinecolor": "rgb(36,36,36)",
             "gridcolor": "white",
             "linecolor": "white",
             "minorgridcolor": "white",
             "startlinecolor": "rgb(36,36,36)"
            },
            "baxis": {
             "endlinecolor": "rgb(36,36,36)",
             "gridcolor": "white",
             "linecolor": "white",
             "minorgridcolor": "white",
             "startlinecolor": "rgb(36,36,36)"
            },
            "type": "carpet"
           }
          ],
          "choropleth": [
           {
            "colorbar": {
             "outlinewidth": 1,
             "tickcolor": "rgb(36,36,36)",
             "ticks": "outside"
            },
            "type": "choropleth"
           }
          ],
          "contour": [
           {
            "colorbar": {
             "outlinewidth": 1,
             "tickcolor": "rgb(36,36,36)",
             "ticks": "outside"
            },
            "colorscale": [
             [
              0,
              "#440154"
             ],
             [
              0.1111111111111111,
              "#482878"
             ],
             [
              0.2222222222222222,
              "#3e4989"
             ],
             [
              0.3333333333333333,
              "#31688e"
             ],
             [
              0.4444444444444444,
              "#26828e"
             ],
             [
              0.5555555555555556,
              "#1f9e89"
             ],
             [
              0.6666666666666666,
              "#35b779"
             ],
             [
              0.7777777777777778,
              "#6ece58"
             ],
             [
              0.8888888888888888,
              "#b5de2b"
             ],
             [
              1,
              "#fde725"
             ]
            ],
            "type": "contour"
           }
          ],
          "contourcarpet": [
           {
            "colorbar": {
             "outlinewidth": 1,
             "tickcolor": "rgb(36,36,36)",
             "ticks": "outside"
            },
            "type": "contourcarpet"
           }
          ],
          "heatmap": [
           {
            "colorbar": {
             "outlinewidth": 1,
             "tickcolor": "rgb(36,36,36)",
             "ticks": "outside"
            },
            "colorscale": [
             [
              0,
              "#440154"
             ],
             [
              0.1111111111111111,
              "#482878"
             ],
             [
              0.2222222222222222,
              "#3e4989"
             ],
             [
              0.3333333333333333,
              "#31688e"
             ],
             [
              0.4444444444444444,
              "#26828e"
             ],
             [
              0.5555555555555556,
              "#1f9e89"
             ],
             [
              0.6666666666666666,
              "#35b779"
             ],
             [
              0.7777777777777778,
              "#6ece58"
             ],
             [
              0.8888888888888888,
              "#b5de2b"
             ],
             [
              1,
              "#fde725"
             ]
            ],
            "type": "heatmap"
           }
          ],
          "heatmapgl": [
           {
            "colorbar": {
             "outlinewidth": 1,
             "tickcolor": "rgb(36,36,36)",
             "ticks": "outside"
            },
            "colorscale": [
             [
              0,
              "#440154"
             ],
             [
              0.1111111111111111,
              "#482878"
             ],
             [
              0.2222222222222222,
              "#3e4989"
             ],
             [
              0.3333333333333333,
              "#31688e"
             ],
             [
              0.4444444444444444,
              "#26828e"
             ],
             [
              0.5555555555555556,
              "#1f9e89"
             ],
             [
              0.6666666666666666,
              "#35b779"
             ],
             [
              0.7777777777777778,
              "#6ece58"
             ],
             [
              0.8888888888888888,
              "#b5de2b"
             ],
             [
              1,
              "#fde725"
             ]
            ],
            "type": "heatmapgl"
           }
          ],
          "histogram": [
           {
            "marker": {
             "line": {
              "color": "white",
              "width": 0.6
             }
            },
            "type": "histogram"
           }
          ],
          "histogram2d": [
           {
            "colorbar": {
             "outlinewidth": 1,
             "tickcolor": "rgb(36,36,36)",
             "ticks": "outside"
            },
            "colorscale": [
             [
              0,
              "#440154"
             ],
             [
              0.1111111111111111,
              "#482878"
             ],
             [
              0.2222222222222222,
              "#3e4989"
             ],
             [
              0.3333333333333333,
              "#31688e"
             ],
             [
              0.4444444444444444,
              "#26828e"
             ],
             [
              0.5555555555555556,
              "#1f9e89"
             ],
             [
              0.6666666666666666,
              "#35b779"
             ],
             [
              0.7777777777777778,
              "#6ece58"
             ],
             [
              0.8888888888888888,
              "#b5de2b"
             ],
             [
              1,
              "#fde725"
             ]
            ],
            "type": "histogram2d"
           }
          ],
          "histogram2dcontour": [
           {
            "colorbar": {
             "outlinewidth": 1,
             "tickcolor": "rgb(36,36,36)",
             "ticks": "outside"
            },
            "colorscale": [
             [
              0,
              "#440154"
             ],
             [
              0.1111111111111111,
              "#482878"
             ],
             [
              0.2222222222222222,
              "#3e4989"
             ],
             [
              0.3333333333333333,
              "#31688e"
             ],
             [
              0.4444444444444444,
              "#26828e"
             ],
             [
              0.5555555555555556,
              "#1f9e89"
             ],
             [
              0.6666666666666666,
              "#35b779"
             ],
             [
              0.7777777777777778,
              "#6ece58"
             ],
             [
              0.8888888888888888,
              "#b5de2b"
             ],
             [
              1,
              "#fde725"
             ]
            ],
            "type": "histogram2dcontour"
           }
          ],
          "mesh3d": [
           {
            "colorbar": {
             "outlinewidth": 1,
             "tickcolor": "rgb(36,36,36)",
             "ticks": "outside"
            },
            "type": "mesh3d"
           }
          ],
          "parcoords": [
           {
            "line": {
             "colorbar": {
              "outlinewidth": 1,
              "tickcolor": "rgb(36,36,36)",
              "ticks": "outside"
             }
            },
            "type": "parcoords"
           }
          ],
          "pie": [
           {
            "automargin": true,
            "type": "pie"
           }
          ],
          "scatter": [
           {
            "fillpattern": {
             "fillmode": "overlay",
             "size": 10,
             "solidity": 0.2
            },
            "type": "scatter"
           }
          ],
          "scatter3d": [
           {
            "line": {
             "colorbar": {
              "outlinewidth": 1,
              "tickcolor": "rgb(36,36,36)",
              "ticks": "outside"
             }
            },
            "marker": {
             "colorbar": {
              "outlinewidth": 1,
              "tickcolor": "rgb(36,36,36)",
              "ticks": "outside"
             }
            },
            "type": "scatter3d"
           }
          ],
          "scattercarpet": [
           {
            "marker": {
             "colorbar": {
              "outlinewidth": 1,
              "tickcolor": "rgb(36,36,36)",
              "ticks": "outside"
             }
            },
            "type": "scattercarpet"
           }
          ],
          "scattergeo": [
           {
            "marker": {
             "colorbar": {
              "outlinewidth": 1,
              "tickcolor": "rgb(36,36,36)",
              "ticks": "outside"
             }
            },
            "type": "scattergeo"
           }
          ],
          "scattergl": [
           {
            "marker": {
             "colorbar": {
              "outlinewidth": 1,
              "tickcolor": "rgb(36,36,36)",
              "ticks": "outside"
             }
            },
            "type": "scattergl"
           }
          ],
          "scattermapbox": [
           {
            "marker": {
             "colorbar": {
              "outlinewidth": 1,
              "tickcolor": "rgb(36,36,36)",
              "ticks": "outside"
             }
            },
            "type": "scattermapbox"
           }
          ],
          "scatterpolar": [
           {
            "marker": {
             "colorbar": {
              "outlinewidth": 1,
              "tickcolor": "rgb(36,36,36)",
              "ticks": "outside"
             }
            },
            "type": "scatterpolar"
           }
          ],
          "scatterpolargl": [
           {
            "marker": {
             "colorbar": {
              "outlinewidth": 1,
              "tickcolor": "rgb(36,36,36)",
              "ticks": "outside"
             }
            },
            "type": "scatterpolargl"
           }
          ],
          "scatterternary": [
           {
            "marker": {
             "colorbar": {
              "outlinewidth": 1,
              "tickcolor": "rgb(36,36,36)",
              "ticks": "outside"
             }
            },
            "type": "scatterternary"
           }
          ],
          "surface": [
           {
            "colorbar": {
             "outlinewidth": 1,
             "tickcolor": "rgb(36,36,36)",
             "ticks": "outside"
            },
            "colorscale": [
             [
              0,
              "#440154"
             ],
             [
              0.1111111111111111,
              "#482878"
             ],
             [
              0.2222222222222222,
              "#3e4989"
             ],
             [
              0.3333333333333333,
              "#31688e"
             ],
             [
              0.4444444444444444,
              "#26828e"
             ],
             [
              0.5555555555555556,
              "#1f9e89"
             ],
             [
              0.6666666666666666,
              "#35b779"
             ],
             [
              0.7777777777777778,
              "#6ece58"
             ],
             [
              0.8888888888888888,
              "#b5de2b"
             ],
             [
              1,
              "#fde725"
             ]
            ],
            "type": "surface"
           }
          ],
          "table": [
           {
            "cells": {
             "fill": {
              "color": "rgb(237,237,237)"
             },
             "line": {
              "color": "white"
             }
            },
            "header": {
             "fill": {
              "color": "rgb(217,217,217)"
             },
             "line": {
              "color": "white"
             }
            },
            "type": "table"
           }
          ]
         },
         "layout": {
          "annotationdefaults": {
           "arrowhead": 0,
           "arrowwidth": 1
          },
          "autotypenumbers": "strict",
          "coloraxis": {
           "colorbar": {
            "outlinewidth": 1,
            "tickcolor": "rgb(36,36,36)",
            "ticks": "outside"
           }
          },
          "colorscale": {
           "diverging": [
            [
             0,
             "rgb(103,0,31)"
            ],
            [
             0.1,
             "rgb(178,24,43)"
            ],
            [
             0.2,
             "rgb(214,96,77)"
            ],
            [
             0.3,
             "rgb(244,165,130)"
            ],
            [
             0.4,
             "rgb(253,219,199)"
            ],
            [
             0.5,
             "rgb(247,247,247)"
            ],
            [
             0.6,
             "rgb(209,229,240)"
            ],
            [
             0.7,
             "rgb(146,197,222)"
            ],
            [
             0.8,
             "rgb(67,147,195)"
            ],
            [
             0.9,
             "rgb(33,102,172)"
            ],
            [
             1,
             "rgb(5,48,97)"
            ]
           ],
           "sequential": [
            [
             0,
             "#440154"
            ],
            [
             0.1111111111111111,
             "#482878"
            ],
            [
             0.2222222222222222,
             "#3e4989"
            ],
            [
             0.3333333333333333,
             "#31688e"
            ],
            [
             0.4444444444444444,
             "#26828e"
            ],
            [
             0.5555555555555556,
             "#1f9e89"
            ],
            [
             0.6666666666666666,
             "#35b779"
            ],
            [
             0.7777777777777778,
             "#6ece58"
            ],
            [
             0.8888888888888888,
             "#b5de2b"
            ],
            [
             1,
             "#fde725"
            ]
           ],
           "sequentialminus": [
            [
             0,
             "#440154"
            ],
            [
             0.1111111111111111,
             "#482878"
            ],
            [
             0.2222222222222222,
             "#3e4989"
            ],
            [
             0.3333333333333333,
             "#31688e"
            ],
            [
             0.4444444444444444,
             "#26828e"
            ],
            [
             0.5555555555555556,
             "#1f9e89"
            ],
            [
             0.6666666666666666,
             "#35b779"
            ],
            [
             0.7777777777777778,
             "#6ece58"
            ],
            [
             0.8888888888888888,
             "#b5de2b"
            ],
            [
             1,
             "#fde725"
            ]
           ]
          },
          "colorway": [
           "#1F77B4",
           "#FF7F0E",
           "#2CA02C",
           "#D62728",
           "#9467BD",
           "#8C564B",
           "#E377C2",
           "#7F7F7F",
           "#BCBD22",
           "#17BECF"
          ],
          "font": {
           "color": "rgb(36,36,36)"
          },
          "geo": {
           "bgcolor": "white",
           "lakecolor": "white",
           "landcolor": "white",
           "showlakes": true,
           "showland": true,
           "subunitcolor": "white"
          },
          "hoverlabel": {
           "align": "left"
          },
          "hovermode": "closest",
          "mapbox": {
           "style": "light"
          },
          "paper_bgcolor": "white",
          "plot_bgcolor": "white",
          "polar": {
           "angularaxis": {
            "gridcolor": "rgb(232,232,232)",
            "linecolor": "rgb(36,36,36)",
            "showgrid": false,
            "showline": true,
            "ticks": "outside"
           },
           "bgcolor": "white",
           "radialaxis": {
            "gridcolor": "rgb(232,232,232)",
            "linecolor": "rgb(36,36,36)",
            "showgrid": false,
            "showline": true,
            "ticks": "outside"
           }
          },
          "scene": {
           "xaxis": {
            "backgroundcolor": "white",
            "gridcolor": "rgb(232,232,232)",
            "gridwidth": 2,
            "linecolor": "rgb(36,36,36)",
            "showbackground": true,
            "showgrid": false,
            "showline": true,
            "ticks": "outside",
            "zeroline": false,
            "zerolinecolor": "rgb(36,36,36)"
           },
           "yaxis": {
            "backgroundcolor": "white",
            "gridcolor": "rgb(232,232,232)",
            "gridwidth": 2,
            "linecolor": "rgb(36,36,36)",
            "showbackground": true,
            "showgrid": false,
            "showline": true,
            "ticks": "outside",
            "zeroline": false,
            "zerolinecolor": "rgb(36,36,36)"
           },
           "zaxis": {
            "backgroundcolor": "white",
            "gridcolor": "rgb(232,232,232)",
            "gridwidth": 2,
            "linecolor": "rgb(36,36,36)",
            "showbackground": true,
            "showgrid": false,
            "showline": true,
            "ticks": "outside",
            "zeroline": false,
            "zerolinecolor": "rgb(36,36,36)"
           }
          },
          "shapedefaults": {
           "fillcolor": "black",
           "line": {
            "width": 0
           },
           "opacity": 0.3
          },
          "ternary": {
           "aaxis": {
            "gridcolor": "rgb(232,232,232)",
            "linecolor": "rgb(36,36,36)",
            "showgrid": false,
            "showline": true,
            "ticks": "outside"
           },
           "baxis": {
            "gridcolor": "rgb(232,232,232)",
            "linecolor": "rgb(36,36,36)",
            "showgrid": false,
            "showline": true,
            "ticks": "outside"
           },
           "bgcolor": "white",
           "caxis": {
            "gridcolor": "rgb(232,232,232)",
            "linecolor": "rgb(36,36,36)",
            "showgrid": false,
            "showline": true,
            "ticks": "outside"
           }
          },
          "title": {
           "x": 0.05
          },
          "xaxis": {
           "automargin": true,
           "gridcolor": "rgb(232,232,232)",
           "linecolor": "rgb(36,36,36)",
           "showgrid": false,
           "showline": true,
           "ticks": "outside",
           "title": {
            "standoff": 15
           },
           "zeroline": false,
           "zerolinecolor": "rgb(36,36,36)"
          },
          "yaxis": {
           "automargin": true,
           "gridcolor": "rgb(232,232,232)",
           "linecolor": "rgb(36,36,36)",
           "showgrid": false,
           "showline": true,
           "ticks": "outside",
           "title": {
            "standoff": 15
           },
           "zeroline": false,
           "zerolinecolor": "rgb(36,36,36)"
          }
         }
        }
       }
      }
     },
     "metadata": {},
     "output_type": "display_data"
    }
   ],
   "source": [
    "fig = px.pie(df_pie,\n",
    "             values='proportion',\n",
    "             names='sentiment_id',\n",
    "             template='simple_white',\n",
    "             color='sentiment_id',\n",
    "             color_discrete_map = {'positive': '#2ca02c', \n",
    "                                        'negative': '#d62728', \n",
    "                                        'neutral': '#7f7f7f'})\n",
    "\n",
    "fig.update_traces(textposition='inside', textinfo='percent+label')\n",
    "fig.update_layout(showlegend=False)\n",
    "\n",
    "fig.show()"
   ]
  },
  {
   "cell_type": "markdown",
   "metadata": {},
   "source": [
    "Line Plot with Sentiment Score"
   ]
  },
  {
   "cell_type": "code",
   "execution_count": 263,
   "metadata": {},
   "outputs": [],
   "source": [
    "df['sentiment_score'] = df['sentiment_id'].map({'positive': 1, 'negative': -1, 'neutral': 0})\n",
    "\n",
    "df_count_2 = (df.groupby(['date'], as_index=False)['sentiment_score'].sum())"
   ]
  },
  {
   "cell_type": "code",
   "execution_count": 264,
   "metadata": {},
   "outputs": [
    {
     "data": {
      "application/vnd.plotly.v1+json": {
       "config": {
        "plotlyServerURL": "https://plot.ly"
       },
       "data": [
        {
         "hovertemplate": "date=%{x}<br>sentiment_score=%{y}<extra></extra>",
         "legendgroup": "",
         "line": {
          "color": "#1F77B4",
          "dash": "solid"
         },
         "marker": {
          "symbol": "circle"
         },
         "mode": "lines",
         "name": "",
         "orientation": "v",
         "showlegend": false,
         "type": "scatter",
         "x": [
          "2024-08-14T16:28:00",
          "2024-08-14T16:29:00",
          "2024-08-14T16:34:00",
          "2024-08-14T16:35:00",
          "2024-08-14T16:36:00",
          "2024-08-14T16:38:00",
          "2024-08-14T16:39:00",
          "2024-08-14T16:40:00",
          "2024-08-14T16:42:00",
          "2024-08-14T16:44:00",
          "2024-08-14T16:45:00",
          "2024-08-14T16:46:00",
          "2024-08-14T16:50:00",
          "2024-08-14T16:53:00",
          "2024-08-14T16:54:00",
          "2024-08-14T16:55:00",
          "2024-08-14T16:58:00",
          "2024-08-14T17:00:00",
          "2024-08-14T17:03:00",
          "2024-08-15T11:55:00",
          "2024-08-15T11:56:00",
          "2024-08-15T11:57:00",
          "2024-08-15T11:58:00",
          "2024-08-15T11:59:00",
          "2024-08-15T12:00:00",
          "2024-08-15T12:01:00",
          "2024-08-15T12:02:00",
          "2024-08-15T12:03:00",
          "2024-08-15T12:04:00",
          "2024-08-15T12:05:00",
          "2024-08-15T12:06:00",
          "2024-08-15T12:07:00",
          "2024-08-15T12:08:00",
          "2024-08-15T12:10:00",
          "2024-08-15T12:11:00",
          "2024-08-15T12:12:00",
          "2024-08-15T12:13:00",
          "2024-08-15T12:14:00",
          "2024-08-15T12:15:00",
          "2024-08-15T12:16:00",
          "2024-08-15T12:17:00",
          "2024-08-15T12:19:00",
          "2024-08-15T12:21:00",
          "2024-08-15T12:22:00",
          "2024-08-15T12:23:00",
          "2024-08-15T12:24:00",
          "2024-08-15T12:25:00",
          "2024-08-15T12:26:00",
          "2024-08-15T12:27:00",
          "2024-08-15T12:28:00",
          "2024-08-15T12:29:00",
          "2024-08-15T12:30:00",
          "2024-08-15T12:31:00",
          "2024-08-15T12:32:00",
          "2024-08-15T12:33:00",
          "2024-08-15T12:34:00",
          "2024-08-15T12:35:00",
          "2024-08-15T12:36:00",
          "2024-08-15T12:37:00",
          "2024-08-15T12:38:00",
          "2024-08-15T12:39:00",
          "2024-08-15T12:40:00",
          "2024-08-15T12:41:00",
          "2024-08-15T12:42:00",
          "2024-08-15T12:43:00",
          "2024-08-15T12:44:00",
          "2024-08-15T12:45:00",
          "2024-08-15T12:46:00",
          "2024-08-15T12:47:00",
          "2024-08-15T12:48:00",
          "2024-08-15T13:01:00",
          "2024-08-15T13:02:00",
          "2024-08-15T13:05:00",
          "2024-08-15T13:06:00",
          "2024-08-15T13:07:00",
          "2024-08-15T13:08:00",
          "2024-08-15T13:09:00",
          "2024-08-15T13:10:00",
          "2024-08-15T13:11:00",
          "2024-08-15T13:12:00",
          "2024-08-15T13:13:00",
          "2024-08-15T13:14:00",
          "2024-08-15T13:15:00",
          "2024-08-15T13:16:00",
          "2024-08-15T13:17:00",
          "2024-08-15T13:18:00",
          "2024-08-15T13:19:00",
          "2024-08-15T13:20:00",
          "2024-08-15T13:21:00",
          "2024-08-15T13:22:00",
          "2024-08-15T13:23:00",
          "2024-08-15T13:24:00",
          "2024-08-15T13:25:00",
          "2024-08-15T13:26:00",
          "2024-08-15T13:27:00",
          "2024-08-15T13:28:00",
          "2024-08-15T13:29:00",
          "2024-08-15T13:30:00",
          "2024-08-15T13:31:00",
          "2024-08-15T13:33:00",
          "2024-08-15T13:34:00",
          "2024-08-15T13:35:00",
          "2024-08-15T13:36:00",
          "2024-08-15T13:38:00",
          "2024-08-15T13:39:00",
          "2024-08-15T13:40:00",
          "2024-08-15T13:41:00",
          "2024-08-15T13:43:00",
          "2024-08-15T13:44:00",
          "2024-08-15T13:45:00",
          "2024-08-15T13:46:00",
          "2024-08-15T13:47:00",
          "2024-08-15T13:50:00",
          "2024-08-15T13:51:00",
          "2024-08-15T13:56:00",
          "2024-08-15T13:58:00",
          "2024-08-15T13:59:00",
          "2024-08-15T14:00:00",
          "2024-08-15T14:02:00",
          "2024-08-15T14:03:00",
          "2024-08-15T14:04:00",
          "2024-08-15T14:05:00",
          "2024-08-15T14:07:00",
          "2024-08-15T14:08:00",
          "2024-08-15T14:09:00",
          "2024-08-15T14:13:00",
          "2024-08-15T14:14:00",
          "2024-08-15T15:18:00",
          "2024-08-15T15:19:00",
          "2024-08-15T15:20:00",
          "2024-08-15T15:22:00",
          "2024-08-15T15:23:00",
          "2024-08-15T15:24:00",
          "2024-08-15T15:25:00",
          "2024-08-15T15:26:00",
          "2024-08-15T15:30:00",
          "2024-08-15T15:31:00",
          "2024-08-15T15:33:00",
          "2024-08-15T15:34:00",
          "2024-08-15T15:36:00",
          "2024-08-15T15:37:00",
          "2024-08-15T15:39:00",
          "2024-08-15T15:40:00",
          "2024-08-15T15:42:00",
          "2024-08-15T15:45:00",
          "2024-08-15T15:46:00",
          "2024-08-15T15:49:00",
          "2024-08-15T15:50:00",
          "2024-08-15T15:51:00",
          "2024-08-15T15:52:00",
          "2024-08-15T15:54:00",
          "2024-08-15T15:55:00",
          "2024-08-15T15:59:00",
          "2024-08-15T16:00:00",
          "2024-08-15T16:02:00",
          "2024-08-15T16:03:00",
          "2024-08-15T16:04:00",
          "2024-08-15T16:05:00",
          "2024-08-15T16:06:00",
          "2024-08-15T16:08:00",
          "2024-08-15T16:09:00",
          "2024-08-15T16:10:00",
          "2024-08-15T16:13:00",
          "2024-08-15T16:15:00",
          "2024-08-15T16:17:00",
          "2024-08-15T16:20:00"
         ],
         "xaxis": "x",
         "y": [
          0,
          2,
          -2,
          -3,
          -2,
          0,
          0,
          1,
          1,
          1,
          -1,
          -1,
          0,
          0,
          -1,
          -2,
          0,
          -1,
          -1,
          0,
          0,
          0,
          -1,
          0,
          0,
          0,
          1,
          -1,
          -1,
          0,
          1,
          1,
          1,
          0,
          0,
          -2,
          -1,
          1,
          -1,
          -3,
          0,
          0,
          0,
          0,
          0,
          -2,
          0,
          3,
          0,
          1,
          -2,
          -1,
          0,
          1,
          0,
          1,
          1,
          -2,
          1,
          0,
          0,
          -1,
          0,
          -1,
          0,
          -3,
          1,
          -2,
          -1,
          -4,
          1,
          0,
          2,
          0,
          -1,
          -1,
          0,
          1,
          0,
          -1,
          0,
          1,
          -1,
          2,
          0,
          -2,
          -1,
          0,
          1,
          -2,
          1,
          2,
          -3,
          -1,
          0,
          1,
          0,
          0,
          -2,
          -1,
          -1,
          0,
          -1,
          2,
          -2,
          -2,
          -1,
          0,
          0,
          0,
          -4,
          -1,
          0,
          0,
          0,
          1,
          -1,
          1,
          -1,
          -1,
          1,
          -2,
          0,
          1,
          -1,
          0,
          0,
          -2,
          1,
          0,
          -2,
          -1,
          0,
          0,
          -1,
          1,
          0,
          0,
          -1,
          1,
          0,
          2,
          0,
          0,
          -1,
          1,
          -1,
          1,
          0,
          -1,
          -1,
          0,
          -1,
          0,
          0,
          0,
          0,
          0,
          -2,
          -1,
          0,
          2,
          1,
          0,
          -1,
          0
         ],
         "yaxis": "y"
        }
       ],
       "layout": {
        "legend": {
         "tracegroupgap": 0
        },
        "margin": {
         "t": 60
        },
        "template": {
         "data": {
          "bar": [
           {
            "error_x": {
             "color": "rgb(36,36,36)"
            },
            "error_y": {
             "color": "rgb(36,36,36)"
            },
            "marker": {
             "line": {
              "color": "white",
              "width": 0.5
             },
             "pattern": {
              "fillmode": "overlay",
              "size": 10,
              "solidity": 0.2
             }
            },
            "type": "bar"
           }
          ],
          "barpolar": [
           {
            "marker": {
             "line": {
              "color": "white",
              "width": 0.5
             },
             "pattern": {
              "fillmode": "overlay",
              "size": 10,
              "solidity": 0.2
             }
            },
            "type": "barpolar"
           }
          ],
          "carpet": [
           {
            "aaxis": {
             "endlinecolor": "rgb(36,36,36)",
             "gridcolor": "white",
             "linecolor": "white",
             "minorgridcolor": "white",
             "startlinecolor": "rgb(36,36,36)"
            },
            "baxis": {
             "endlinecolor": "rgb(36,36,36)",
             "gridcolor": "white",
             "linecolor": "white",
             "minorgridcolor": "white",
             "startlinecolor": "rgb(36,36,36)"
            },
            "type": "carpet"
           }
          ],
          "choropleth": [
           {
            "colorbar": {
             "outlinewidth": 1,
             "tickcolor": "rgb(36,36,36)",
             "ticks": "outside"
            },
            "type": "choropleth"
           }
          ],
          "contour": [
           {
            "colorbar": {
             "outlinewidth": 1,
             "tickcolor": "rgb(36,36,36)",
             "ticks": "outside"
            },
            "colorscale": [
             [
              0,
              "#440154"
             ],
             [
              0.1111111111111111,
              "#482878"
             ],
             [
              0.2222222222222222,
              "#3e4989"
             ],
             [
              0.3333333333333333,
              "#31688e"
             ],
             [
              0.4444444444444444,
              "#26828e"
             ],
             [
              0.5555555555555556,
              "#1f9e89"
             ],
             [
              0.6666666666666666,
              "#35b779"
             ],
             [
              0.7777777777777778,
              "#6ece58"
             ],
             [
              0.8888888888888888,
              "#b5de2b"
             ],
             [
              1,
              "#fde725"
             ]
            ],
            "type": "contour"
           }
          ],
          "contourcarpet": [
           {
            "colorbar": {
             "outlinewidth": 1,
             "tickcolor": "rgb(36,36,36)",
             "ticks": "outside"
            },
            "type": "contourcarpet"
           }
          ],
          "heatmap": [
           {
            "colorbar": {
             "outlinewidth": 1,
             "tickcolor": "rgb(36,36,36)",
             "ticks": "outside"
            },
            "colorscale": [
             [
              0,
              "#440154"
             ],
             [
              0.1111111111111111,
              "#482878"
             ],
             [
              0.2222222222222222,
              "#3e4989"
             ],
             [
              0.3333333333333333,
              "#31688e"
             ],
             [
              0.4444444444444444,
              "#26828e"
             ],
             [
              0.5555555555555556,
              "#1f9e89"
             ],
             [
              0.6666666666666666,
              "#35b779"
             ],
             [
              0.7777777777777778,
              "#6ece58"
             ],
             [
              0.8888888888888888,
              "#b5de2b"
             ],
             [
              1,
              "#fde725"
             ]
            ],
            "type": "heatmap"
           }
          ],
          "heatmapgl": [
           {
            "colorbar": {
             "outlinewidth": 1,
             "tickcolor": "rgb(36,36,36)",
             "ticks": "outside"
            },
            "colorscale": [
             [
              0,
              "#440154"
             ],
             [
              0.1111111111111111,
              "#482878"
             ],
             [
              0.2222222222222222,
              "#3e4989"
             ],
             [
              0.3333333333333333,
              "#31688e"
             ],
             [
              0.4444444444444444,
              "#26828e"
             ],
             [
              0.5555555555555556,
              "#1f9e89"
             ],
             [
              0.6666666666666666,
              "#35b779"
             ],
             [
              0.7777777777777778,
              "#6ece58"
             ],
             [
              0.8888888888888888,
              "#b5de2b"
             ],
             [
              1,
              "#fde725"
             ]
            ],
            "type": "heatmapgl"
           }
          ],
          "histogram": [
           {
            "marker": {
             "line": {
              "color": "white",
              "width": 0.6
             }
            },
            "type": "histogram"
           }
          ],
          "histogram2d": [
           {
            "colorbar": {
             "outlinewidth": 1,
             "tickcolor": "rgb(36,36,36)",
             "ticks": "outside"
            },
            "colorscale": [
             [
              0,
              "#440154"
             ],
             [
              0.1111111111111111,
              "#482878"
             ],
             [
              0.2222222222222222,
              "#3e4989"
             ],
             [
              0.3333333333333333,
              "#31688e"
             ],
             [
              0.4444444444444444,
              "#26828e"
             ],
             [
              0.5555555555555556,
              "#1f9e89"
             ],
             [
              0.6666666666666666,
              "#35b779"
             ],
             [
              0.7777777777777778,
              "#6ece58"
             ],
             [
              0.8888888888888888,
              "#b5de2b"
             ],
             [
              1,
              "#fde725"
             ]
            ],
            "type": "histogram2d"
           }
          ],
          "histogram2dcontour": [
           {
            "colorbar": {
             "outlinewidth": 1,
             "tickcolor": "rgb(36,36,36)",
             "ticks": "outside"
            },
            "colorscale": [
             [
              0,
              "#440154"
             ],
             [
              0.1111111111111111,
              "#482878"
             ],
             [
              0.2222222222222222,
              "#3e4989"
             ],
             [
              0.3333333333333333,
              "#31688e"
             ],
             [
              0.4444444444444444,
              "#26828e"
             ],
             [
              0.5555555555555556,
              "#1f9e89"
             ],
             [
              0.6666666666666666,
              "#35b779"
             ],
             [
              0.7777777777777778,
              "#6ece58"
             ],
             [
              0.8888888888888888,
              "#b5de2b"
             ],
             [
              1,
              "#fde725"
             ]
            ],
            "type": "histogram2dcontour"
           }
          ],
          "mesh3d": [
           {
            "colorbar": {
             "outlinewidth": 1,
             "tickcolor": "rgb(36,36,36)",
             "ticks": "outside"
            },
            "type": "mesh3d"
           }
          ],
          "parcoords": [
           {
            "line": {
             "colorbar": {
              "outlinewidth": 1,
              "tickcolor": "rgb(36,36,36)",
              "ticks": "outside"
             }
            },
            "type": "parcoords"
           }
          ],
          "pie": [
           {
            "automargin": true,
            "type": "pie"
           }
          ],
          "scatter": [
           {
            "fillpattern": {
             "fillmode": "overlay",
             "size": 10,
             "solidity": 0.2
            },
            "type": "scatter"
           }
          ],
          "scatter3d": [
           {
            "line": {
             "colorbar": {
              "outlinewidth": 1,
              "tickcolor": "rgb(36,36,36)",
              "ticks": "outside"
             }
            },
            "marker": {
             "colorbar": {
              "outlinewidth": 1,
              "tickcolor": "rgb(36,36,36)",
              "ticks": "outside"
             }
            },
            "type": "scatter3d"
           }
          ],
          "scattercarpet": [
           {
            "marker": {
             "colorbar": {
              "outlinewidth": 1,
              "tickcolor": "rgb(36,36,36)",
              "ticks": "outside"
             }
            },
            "type": "scattercarpet"
           }
          ],
          "scattergeo": [
           {
            "marker": {
             "colorbar": {
              "outlinewidth": 1,
              "tickcolor": "rgb(36,36,36)",
              "ticks": "outside"
             }
            },
            "type": "scattergeo"
           }
          ],
          "scattergl": [
           {
            "marker": {
             "colorbar": {
              "outlinewidth": 1,
              "tickcolor": "rgb(36,36,36)",
              "ticks": "outside"
             }
            },
            "type": "scattergl"
           }
          ],
          "scattermapbox": [
           {
            "marker": {
             "colorbar": {
              "outlinewidth": 1,
              "tickcolor": "rgb(36,36,36)",
              "ticks": "outside"
             }
            },
            "type": "scattermapbox"
           }
          ],
          "scatterpolar": [
           {
            "marker": {
             "colorbar": {
              "outlinewidth": 1,
              "tickcolor": "rgb(36,36,36)",
              "ticks": "outside"
             }
            },
            "type": "scatterpolar"
           }
          ],
          "scatterpolargl": [
           {
            "marker": {
             "colorbar": {
              "outlinewidth": 1,
              "tickcolor": "rgb(36,36,36)",
              "ticks": "outside"
             }
            },
            "type": "scatterpolargl"
           }
          ],
          "scatterternary": [
           {
            "marker": {
             "colorbar": {
              "outlinewidth": 1,
              "tickcolor": "rgb(36,36,36)",
              "ticks": "outside"
             }
            },
            "type": "scatterternary"
           }
          ],
          "surface": [
           {
            "colorbar": {
             "outlinewidth": 1,
             "tickcolor": "rgb(36,36,36)",
             "ticks": "outside"
            },
            "colorscale": [
             [
              0,
              "#440154"
             ],
             [
              0.1111111111111111,
              "#482878"
             ],
             [
              0.2222222222222222,
              "#3e4989"
             ],
             [
              0.3333333333333333,
              "#31688e"
             ],
             [
              0.4444444444444444,
              "#26828e"
             ],
             [
              0.5555555555555556,
              "#1f9e89"
             ],
             [
              0.6666666666666666,
              "#35b779"
             ],
             [
              0.7777777777777778,
              "#6ece58"
             ],
             [
              0.8888888888888888,
              "#b5de2b"
             ],
             [
              1,
              "#fde725"
             ]
            ],
            "type": "surface"
           }
          ],
          "table": [
           {
            "cells": {
             "fill": {
              "color": "rgb(237,237,237)"
             },
             "line": {
              "color": "white"
             }
            },
            "header": {
             "fill": {
              "color": "rgb(217,217,217)"
             },
             "line": {
              "color": "white"
             }
            },
            "type": "table"
           }
          ]
         },
         "layout": {
          "annotationdefaults": {
           "arrowhead": 0,
           "arrowwidth": 1
          },
          "autotypenumbers": "strict",
          "coloraxis": {
           "colorbar": {
            "outlinewidth": 1,
            "tickcolor": "rgb(36,36,36)",
            "ticks": "outside"
           }
          },
          "colorscale": {
           "diverging": [
            [
             0,
             "rgb(103,0,31)"
            ],
            [
             0.1,
             "rgb(178,24,43)"
            ],
            [
             0.2,
             "rgb(214,96,77)"
            ],
            [
             0.3,
             "rgb(244,165,130)"
            ],
            [
             0.4,
             "rgb(253,219,199)"
            ],
            [
             0.5,
             "rgb(247,247,247)"
            ],
            [
             0.6,
             "rgb(209,229,240)"
            ],
            [
             0.7,
             "rgb(146,197,222)"
            ],
            [
             0.8,
             "rgb(67,147,195)"
            ],
            [
             0.9,
             "rgb(33,102,172)"
            ],
            [
             1,
             "rgb(5,48,97)"
            ]
           ],
           "sequential": [
            [
             0,
             "#440154"
            ],
            [
             0.1111111111111111,
             "#482878"
            ],
            [
             0.2222222222222222,
             "#3e4989"
            ],
            [
             0.3333333333333333,
             "#31688e"
            ],
            [
             0.4444444444444444,
             "#26828e"
            ],
            [
             0.5555555555555556,
             "#1f9e89"
            ],
            [
             0.6666666666666666,
             "#35b779"
            ],
            [
             0.7777777777777778,
             "#6ece58"
            ],
            [
             0.8888888888888888,
             "#b5de2b"
            ],
            [
             1,
             "#fde725"
            ]
           ],
           "sequentialminus": [
            [
             0,
             "#440154"
            ],
            [
             0.1111111111111111,
             "#482878"
            ],
            [
             0.2222222222222222,
             "#3e4989"
            ],
            [
             0.3333333333333333,
             "#31688e"
            ],
            [
             0.4444444444444444,
             "#26828e"
            ],
            [
             0.5555555555555556,
             "#1f9e89"
            ],
            [
             0.6666666666666666,
             "#35b779"
            ],
            [
             0.7777777777777778,
             "#6ece58"
            ],
            [
             0.8888888888888888,
             "#b5de2b"
            ],
            [
             1,
             "#fde725"
            ]
           ]
          },
          "colorway": [
           "#1F77B4",
           "#FF7F0E",
           "#2CA02C",
           "#D62728",
           "#9467BD",
           "#8C564B",
           "#E377C2",
           "#7F7F7F",
           "#BCBD22",
           "#17BECF"
          ],
          "font": {
           "color": "rgb(36,36,36)"
          },
          "geo": {
           "bgcolor": "white",
           "lakecolor": "white",
           "landcolor": "white",
           "showlakes": true,
           "showland": true,
           "subunitcolor": "white"
          },
          "hoverlabel": {
           "align": "left"
          },
          "hovermode": "closest",
          "mapbox": {
           "style": "light"
          },
          "paper_bgcolor": "white",
          "plot_bgcolor": "white",
          "polar": {
           "angularaxis": {
            "gridcolor": "rgb(232,232,232)",
            "linecolor": "rgb(36,36,36)",
            "showgrid": false,
            "showline": true,
            "ticks": "outside"
           },
           "bgcolor": "white",
           "radialaxis": {
            "gridcolor": "rgb(232,232,232)",
            "linecolor": "rgb(36,36,36)",
            "showgrid": false,
            "showline": true,
            "ticks": "outside"
           }
          },
          "scene": {
           "xaxis": {
            "backgroundcolor": "white",
            "gridcolor": "rgb(232,232,232)",
            "gridwidth": 2,
            "linecolor": "rgb(36,36,36)",
            "showbackground": true,
            "showgrid": false,
            "showline": true,
            "ticks": "outside",
            "zeroline": false,
            "zerolinecolor": "rgb(36,36,36)"
           },
           "yaxis": {
            "backgroundcolor": "white",
            "gridcolor": "rgb(232,232,232)",
            "gridwidth": 2,
            "linecolor": "rgb(36,36,36)",
            "showbackground": true,
            "showgrid": false,
            "showline": true,
            "ticks": "outside",
            "zeroline": false,
            "zerolinecolor": "rgb(36,36,36)"
           },
           "zaxis": {
            "backgroundcolor": "white",
            "gridcolor": "rgb(232,232,232)",
            "gridwidth": 2,
            "linecolor": "rgb(36,36,36)",
            "showbackground": true,
            "showgrid": false,
            "showline": true,
            "ticks": "outside",
            "zeroline": false,
            "zerolinecolor": "rgb(36,36,36)"
           }
          },
          "shapedefaults": {
           "fillcolor": "black",
           "line": {
            "width": 0
           },
           "opacity": 0.3
          },
          "ternary": {
           "aaxis": {
            "gridcolor": "rgb(232,232,232)",
            "linecolor": "rgb(36,36,36)",
            "showgrid": false,
            "showline": true,
            "ticks": "outside"
           },
           "baxis": {
            "gridcolor": "rgb(232,232,232)",
            "linecolor": "rgb(36,36,36)",
            "showgrid": false,
            "showline": true,
            "ticks": "outside"
           },
           "bgcolor": "white",
           "caxis": {
            "gridcolor": "rgb(232,232,232)",
            "linecolor": "rgb(36,36,36)",
            "showgrid": false,
            "showline": true,
            "ticks": "outside"
           }
          },
          "title": {
           "x": 0.05
          },
          "xaxis": {
           "automargin": true,
           "gridcolor": "rgb(232,232,232)",
           "linecolor": "rgb(36,36,36)",
           "showgrid": false,
           "showline": true,
           "ticks": "outside",
           "title": {
            "standoff": 15
           },
           "zeroline": false,
           "zerolinecolor": "rgb(36,36,36)"
          },
          "yaxis": {
           "automargin": true,
           "gridcolor": "rgb(232,232,232)",
           "linecolor": "rgb(36,36,36)",
           "showgrid": false,
           "showline": true,
           "ticks": "outside",
           "title": {
            "standoff": 15
           },
           "zeroline": false,
           "zerolinecolor": "rgb(36,36,36)"
          }
         }
        },
        "xaxis": {
         "anchor": "y",
         "domain": [
          0,
          1
         ],
         "title": {
          "text": "date"
         }
        },
        "yaxis": {
         "anchor": "x",
         "domain": [
          0,
          1
         ],
         "title": {
          "text": "sentiment_score"
         }
        }
       }
      }
     },
     "metadata": {},
     "output_type": "display_data"
    }
   ],
   "source": [
    "fig = px.line(df_count_2,\n",
    "            x='date',\n",
    "            y='sentiment_score',\n",
    "            template='simple_white',\n",
    "            )\n",
    "fig.show()"
   ]
  },
  {
   "cell_type": "code",
   "execution_count": null,
   "metadata": {},
   "outputs": [],
   "source": []
  }
 ],
 "metadata": {
  "kernelspec": {
   "display_name": "twitter_sentiment_analysis",
   "language": "python",
   "name": "python3"
  },
  "language_info": {
   "codemirror_mode": {
    "name": "ipython",
    "version": 3
   },
   "file_extension": ".py",
   "mimetype": "text/x-python",
   "name": "python",
   "nbconvert_exporter": "python",
   "pygments_lexer": "ipython3",
   "version": "3.11.9"
  }
 },
 "nbformat": 4,
 "nbformat_minor": 2
}
